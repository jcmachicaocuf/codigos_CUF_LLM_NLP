{
  "nbformat": 4,
  "nbformat_minor": 0,
  "metadata": {
    "colab": {
      "provenance": []
    },
    "kernelspec": {
      "name": "python3",
      "display_name": "Python 3"
    },
    "language_info": {
      "name": "python"
    }
  },
  "cells": [
    {
      "cell_type": "code",
      "source": [
        "import anthropic\n",
        "client = anthropic.Client(\"tu_clave_api_aqui\")"
      ],
      "metadata": {
        "id": "aLJEhh-AVUvB"
      },
      "execution_count": null,
      "outputs": []
    },
    {
      "cell_type": "code",
      "execution_count": null,
      "metadata": {
        "id": "8EZhTknDVCum"
      },
      "outputs": [],
      "source": [
        "def registrar_texto_inicial():\n",
        "    return input(\"Ingrese el texto inicial para el debate: \")\n",
        "\n",
        "def evaluar_ambiguedad(texto):\n",
        "    prompt = f\"Evalúa el grado de ambigüedad del siguiente texto en una escala del 0 al 10, donde 0 es completamente claro y 10 es extremadamente ambiguo. Proporciona una justificación breve. Texto: {texto}\"\n",
        "\n",
        "    response = client.completion(\n",
        "        prompt=prompt,\n",
        "        model=\"claude-3-opus-20240229\",\n",
        "        max_tokens_to_sample=300\n",
        "    )\n",
        "\n",
        "    return response.completion\n",
        "\n",
        "def generar_preguntas(texto):\n",
        "    prompt = f\"Genera preguntas que conduzcan a la reducción de los aspectos ambiguos del siguiente texto: {texto}\"\n",
        "\n",
        "    response = client.completion(\n",
        "        prompt=prompt,\n",
        "        model=\"claude-3-opus-20240229\",\n",
        "        max_tokens_to_sample=500\n",
        "    )\n",
        "\n",
        "    return response.completion\n",
        "\n",
        "def registrar_respuestas():\n",
        "    respuestas = []\n",
        "    while True:\n",
        "        respuesta = input(\"Ingrese una respuesta (o 'fin' para terminar): \")\n",
        "        if respuesta.lower() == 'fin':\n",
        "            break\n",
        "        respuestas.append(respuesta)\n",
        "    return respuestas\n",
        "\n",
        "def integrar_respuestas(texto_original, respuestas):\n",
        "    prompt = f\"Integra las siguientes respuestas al texto original para crear un nuevo texto mejorado y menos ambiguo: \\n\\nTexto original: {texto_original}\\n\\nRespuestas: {' '.join(respuestas)}\"\n",
        "\n",
        "    response = client.completion(\n",
        "        prompt=prompt,\n",
        "        model=\"claude-3-opus-20240229\",\n",
        "        max_tokens_to_sample=1000\n",
        "    )\n",
        "\n",
        "    return response.completion\n",
        "\n",
        "def comentar_evolucion(ambiguedad_inicial, ambiguedad_final):\n",
        "    prompt = f\"Comenta sobre la evolución del texto. La ambigüedad inicial era {ambiguedad_inicial} y la final es {ambiguedad_final}. Si se redujo la ambigüedad, sugiere oportunidades de mejora. Si se mantuvo igual o aumentó, sugiere preguntas para reducir la ambigüedad.\"\n",
        "\n",
        "    response = client.completion(\n",
        "        prompt=prompt,\n",
        "        model=\"claude-3-opus-20240229\",\n",
        "        max_tokens_to_sample=500\n",
        "    )\n",
        "\n",
        "    return response.completion\n",
        "\n"
      ]
    },
    {
      "cell_type": "code",
      "source": [
        "def main():\n",
        "    texto_inicial = registrar_texto_inicial()\n",
        "\n",
        "    ambiguedad_inicial = evaluar_ambiguedad(texto_inicial)\n",
        "    print(f\"Evaluación de ambigüedad inicial:\\n{ambiguedad_inicial}\\n\")\n",
        "\n",
        "    preguntas = generar_preguntas(texto_inicial)\n",
        "    print(f\"Preguntas para reducir ambigüedad:\\n{preguntas}\\n\")\n",
        "\n",
        "    respuestas = registrar_respuestas()\n",
        "\n",
        "    texto_mejorado = integrar_respuestas(texto_inicial, respuestas)\n",
        "    print(f\"Texto mejorado:\\n{texto_mejorado}\\n\")\n",
        "\n",
        "    ambiguedad_final = evaluar_ambiguedad(texto_mejorado)\n",
        "    print(f\"Evaluación de ambigüedad final:\\n{ambiguedad_final}\\n\")\n",
        "\n",
        "    comentario = comentar_evolucion(ambiguedad_inicial, ambiguedad_final)\n",
        "    print(f\"Comentario sobre la evolución:\\n{comentario}\")"
      ],
      "metadata": {
        "id": "rVqvCYMDVhGP"
      },
      "execution_count": null,
      "outputs": []
    },
    {
      "cell_type": "code",
      "source": [
        "if __name__ == \"__main__\":\n",
        "    main()"
      ],
      "metadata": {
        "id": "uKTVq0OTVj77"
      },
      "execution_count": null,
      "outputs": []
    }
  ]
}
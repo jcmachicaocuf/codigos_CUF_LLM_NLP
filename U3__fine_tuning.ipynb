{
  "nbformat": 4,
  "nbformat_minor": 0,
  "metadata": {
    "colab": {
      "provenance": [],
      "include_colab_link": true
    },
    "kernelspec": {
      "name": "python3",
      "display_name": "Python 3"
    },
    "language_info": {
      "name": "python"
    }
  },
  "cells": [
    {
      "cell_type": "markdown",
      "metadata": {
        "id": "view-in-github",
        "colab_type": "text"
      },
      "source": [
        "<a href=\"https://colab.research.google.com/github/jcmachicaocuf/codigos_CUF_LLM_NLP/blob/main/U3__fine_tuning.ipynb\" target=\"_parent\"><img src=\"https://colab.research.google.com/assets/colab-badge.svg\" alt=\"Open In Colab\"/></a>"
      ]
    },
    {
      "cell_type": "markdown",
      "source": [],
      "metadata": {
        "id": "IWeCaFOKu3vX"
      }
    },
    {
      "cell_type": "code",
      "source": [
        "import torch\n",
        "from torch.utils.data import Dataset, DataLoader\n",
        "from transformers import GPT2LMHeadModel, GPT2Tokenizer\n",
        "from transformers import AdamW\n",
        "import os"
      ],
      "metadata": {
        "id": "Gw643i37zy6M"
      },
      "execution_count": null,
      "outputs": []
    },
    {
      "cell_type": "code",
      "source": [
        "class SimpleTextDataset(Dataset):\n",
        "    def __init__(self, text_file, tokenizer, max_length=128):\n",
        "        with open(text_file, 'r', encoding='utf-8') as f:\n",
        "            texts = f.read().split('\\n')\n",
        "\n",
        "        self.encodings = tokenizer([text for text in texts if text],\n",
        "                                 truncation=True,\n",
        "                                 max_length=max_length,\n",
        "                                 padding='max_length',\n",
        "                                 return_tensors='pt')\n",
        "\n",
        "    def __len__(self):\n",
        "        return len(self.encodings.input_ids)\n",
        "\n",
        "    def __getitem__(self, idx):\n",
        "        return {\n",
        "            'input_ids': self.encodings.input_ids[idx],\n",
        "            'attention_mask': self.encodings.attention_mask[idx],\n",
        "            'labels': self.encodings.input_ids[idx]\n",
        "        }"
      ],
      "metadata": {
        "id": "43oQ3oUXz7T2"
      },
      "execution_count": null,
      "outputs": []
    },
    {
      "cell_type": "code",
      "source": [
        "def train_epoch(model, train_loader, optimizer, device):\n",
        "    model.train()\n",
        "    total_loss = 0\n",
        "    for batch in train_loader:\n",
        "        # Mover batch a GPU/CPU\n",
        "        input_ids = batch['input_ids'].to(device)\n",
        "        attention_mask = batch['attention_mask'].to(device)\n",
        "        labels = batch['labels'].to(device)\n",
        "\n",
        "        # Forward pass\n",
        "        outputs = model(\n",
        "            input_ids=input_ids,\n",
        "            attention_mask=attention_mask,\n",
        "            labels=labels\n",
        "        )\n",
        "\n",
        "        loss = outputs.loss\n",
        "        total_loss += loss.item()\n",
        "\n",
        "        # Backward pass y optimización\n",
        "        optimizer.zero_grad()\n",
        "        loss.backward()\n",
        "        optimizer.step()\n",
        "\n",
        "    return total_loss / len(train_loader)"
      ],
      "metadata": {
        "id": "RkC4cKoa0B7I"
      },
      "execution_count": null,
      "outputs": []
    },
    {
      "cell_type": "code",
      "source": [
        "def fine_tune_gpt2(text_file, output_dir=\"./fine_tuned_gpt2\", epochs=3):\n",
        "    # Configurar device\n",
        "    device = torch.device('cuda' if torch.cuda.is_available() else 'cpu')\n",
        "    print(f\"Using device: {device}\")\n",
        "\n",
        "    # Cargar modelo y tokenizer\n",
        "    tokenizer = GPT2Tokenizer.from_pretrained('gpt2')\n",
        "    model = GPT2LMHeadModel.from_pretrained('gpt2')\n",
        "\n",
        "    # Configurar tokenizer\n",
        "    tokenizer.pad_token = tokenizer.eos_token\n",
        "    model.resize_token_embeddings(len(tokenizer))\n",
        "\n",
        "    # Mover modelo al device\n",
        "    model.to(device)\n",
        "\n",
        "    # Preparar dataset\n",
        "    dataset = SimpleTextDataset(text_file, tokenizer)\n",
        "    train_loader = DataLoader(dataset, batch_size=4, shuffle=True)\n",
        "\n",
        "    # Configurar optimizador\n",
        "    optimizer = AdamW(model.parameters(), lr=5e-5)\n",
        "\n",
        "    # Training loop\n",
        "    print(\"Iniciando entrenamiento...\")\n",
        "    for epoch in range(epochs):\n",
        "        avg_loss = train_epoch(model, train_loader, optimizer, device)\n",
        "        print(f\"Epoch {epoch + 1}/{epochs}, Average loss: {avg_loss:.4f}\")\n",
        "\n",
        "    # Guardar modelo y tokenizer\n",
        "    if not os.path.exists(output_dir):\n",
        "        os.makedirs(output_dir)\n",
        "\n",
        "    model.save_pretrained(output_dir)\n",
        "    tokenizer.save_pretrained(output_dir)\n",
        "    print(f\"Modelo guardado en {output_dir}\")\n",
        "\n",
        "    return model, tokenizer"
      ],
      "metadata": {
        "id": "fqj-x1LO0IQK"
      },
      "execution_count": null,
      "outputs": []
    },
    {
      "cell_type": "code",
      "source": [
        "def generate_text(prompt, model, tokenizer, max_length=100):\n",
        "    # Pasar modelo a evaluación\n",
        "    model.eval()\n",
        "\n",
        "    # Preparar input\n",
        "    inputs = tokenizer.encode(prompt, return_tensors='pt')\n",
        "\n",
        "    # Generar texto\n",
        "    with torch.no_grad():\n",
        "        outputs = model.generate(\n",
        "            inputs,\n",
        "            max_length=max_length,\n",
        "            num_return_sequences=1,\n",
        "            no_repeat_ngram_size=2,\n",
        "            temperature=0.7\n",
        "        )\n",
        "\n",
        "    return tokenizer.decode(outputs[0], skip_special_tokens=True)"
      ],
      "metadata": {
        "id": "TbqgRhKvzyzH"
      },
      "execution_count": null,
      "outputs": []
    },
    {
      "cell_type": "code",
      "source": [
        "# Ejemplo de uso\n",
        "text_file = \"datos_train_v4.txt\"  # Debes crear este archivo con tus textos\n",
        "\n",
        "# Fine-tuning\n",
        "model, tokenizer = fine_tune_gpt2(text_file, epochs=1)\n",
        "\n",
        "# Generar texto de ejemplo\n",
        "prompt = \"What is the difference between perkoars and darguiens and how they help eachother in the system?\"\n",
        "generated = generate_text(prompt, model, tokenizer)\n",
        "print(\"\\nTexto generado:\")\n",
        "print(generated)"
      ],
      "metadata": {
        "colab": {
          "base_uri": "https://localhost:8080/"
        },
        "id": "unQVrBEDz5aA",
        "outputId": "e97497c7-d979-4ee8-925c-e7470949f3af"
      },
      "execution_count": null,
      "outputs": [
        {
          "output_type": "stream",
          "name": "stdout",
          "text": [
            "Using device: cpu\n"
          ]
        },
        {
          "output_type": "stream",
          "name": "stderr",
          "text": [
            "/usr/local/lib/python3.11/dist-packages/transformers/optimization.py:591: FutureWarning: This implementation of AdamW is deprecated and will be removed in a future version. Use the PyTorch implementation torch.optim.AdamW instead, or set `no_deprecation_warning=True` to disable this warning\n",
            "  warnings.warn(\n"
          ]
        },
        {
          "output_type": "stream",
          "name": "stdout",
          "text": [
            "Iniciando entrenamiento...\n",
            "Epoch 1/1, Average loss: 6.0594\n"
          ]
        },
        {
          "output_type": "stream",
          "name": "stderr",
          "text": [
            "/usr/local/lib/python3.11/dist-packages/transformers/generation/configuration_utils.py:628: UserWarning: `do_sample` is set to `False`. However, `temperature` is set to `0.7` -- this flag is only used in sample-based generation modes. You should set `do_sample=True` or unset `temperature`.\n",
            "  warnings.warn(\n",
            "The attention mask and the pad token id were not set. As a consequence, you may observe unexpected behavior. Please pass your input's `attention_mask` to obtain reliable results.\n",
            "Setting `pad_token_id` to `eos_token_id`:50256 for open-end generation.\n"
          ]
        },
        {
          "output_type": "stream",
          "name": "stdout",
          "text": [
            "Modelo guardado en ./fine_tuned_gpt2\n",
            "\n",
            "Texto generado:\n",
            "What is the difference between perkoars and darguiens and how they help eachother in the system?\n",
            "\n",
            "The perkars are the most important part of the game. They are a very important thing. The dkuien are very useful.\n",
            ".\n"
          ]
        }
      ]
    }
  ]
}
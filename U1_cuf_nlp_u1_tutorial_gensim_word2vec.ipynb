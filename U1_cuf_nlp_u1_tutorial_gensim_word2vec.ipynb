{
  "nbformat": 4,
  "nbformat_minor": 0,
  "metadata": {
    "colab": {
      "provenance": [],
      "authorship_tag": "ABX9TyPORkklrO0xaTzJsysRsC5y",
      "include_colab_link": true
    },
    "kernelspec": {
      "name": "python3",
      "display_name": "Python 3"
    },
    "language_info": {
      "name": "python"
    }
  },
  "cells": [
    {
      "cell_type": "markdown",
      "metadata": {
        "id": "view-in-github",
        "colab_type": "text"
      },
      "source": [
        "<a href=\"https://colab.research.google.com/github/jcmachicaocuf/codigos_CUF_LLM_NLP/blob/main/cuf_nlp_u1_tutorial_gensim_word2vec.ipynb\" target=\"_parent\"><img src=\"https://colab.research.google.com/assets/colab-badge.svg\" alt=\"Open In Colab\"/></a>"
      ]
    },
    {
      "cell_type": "code",
      "source": [
        "# Instalación de gensim si no está instalado\n",
        "!pip install gensim"
      ],
      "metadata": {
        "id": "4Bjve57lworN"
      },
      "execution_count": null,
      "outputs": []
    },
    {
      "cell_type": "code",
      "source": [
        "# Importar las bibliotecas necesarias\n",
        "from gensim.models import Word2Vec\n",
        "from nltk.tokenize import word_tokenize\n",
        "import nltk\n",
        "nltk.download('punkt')"
      ],
      "metadata": {
        "colab": {
          "base_uri": "https://localhost:8080/"
        },
        "id": "0Fvc3-GCwuO6",
        "outputId": "2e7b380d-6e44-4039-d2c1-8e78692ff36f"
      },
      "execution_count": null,
      "outputs": [
        {
          "output_type": "stream",
          "name": "stderr",
          "text": [
            "[nltk_data] Downloading package punkt to /root/nltk_data...\n",
            "[nltk_data]   Unzipping tokenizers/punkt.zip.\n"
          ]
        },
        {
          "output_type": "execute_result",
          "data": {
            "text/plain": [
              "True"
            ]
          },
          "metadata": {},
          "execution_count": 1
        }
      ]
    },
    {
      "cell_type": "code",
      "source": [
        "texto = \"\"\"\n",
        "Ahora la teníamos allí, abandonada en un rincón de la casa. Alguien nos dijo, antes de que trajéramos sus cosas —su ropa olorosa a madera reciente, sus zapatos sin peso para el barro— que no podía acostumbrarse a aquella vida lenta, sin sabores dulces, sin otro atractivo que esa dura soledad de cal y canto, siempre apretada a sus espaldas. Alguien nos dijo —y había pasado mucho tiempo antes de que lo recordáramos— que ella también había tenido una infancia. Quizás no lo creímos, entonces. Pero ahora, viéndola sentada en el rincón, con los ojos asombrados, y un dedo puesto sobre los labios, tal vez aceptábamos que una vez tuvo una infancia, que alguna vez tuvo el tacto sensible a la frescura anticipada de la lluvia, y que soportó siempre de perfil a su cuerpo, una sombra inesperada.\n",
        "Todo eso —y mucho más— lo habíamos creído aquella tarde en que nos dimos cuenta de que, por encima de su submundo tremendo, era completamente humana. Lo supimos, cuando de pronto, como si adentro se hubiera roto un cristal, empezó a dar gritos angustiados; empezó a llamarnos a cada uno por su nombre, hablando entre lágrimas hasta cuando nos sentamos junto a ella, nos pusimos a cantar y a batir palmas, como si nuestra gritería pudiera soldar los cristales esparcidos. Sólo entonces pudimos creer que alguna vez tuvo una infancia. Fue como si sus gritos se parecieran en algo a una revelación; como si tuvieran mucho de árbol recordado y río profundo, cuando se incorporó, se inclinó un poco hacia adelante, y todavía sin cubrirse la cara con el delantal, todavía sin sonarse la nariz y todavía con lágrimas, nos dijo: “No volveré a sonreír”.\n",
        "Salimos al patio, los tres, sin hablar, acaso creíamos llevar pensamientos comunes. Tal vez pensamos que no sería lo mejor encender las luces de la casa. Ella deseaba estar sola —quizás—, sentada en el rincón sombrío, tejiéndose la trenza final, que parecía ser lo único que sobreviviría de su tránsito hacia la bestia.\n",
        "Afuera, en el patio, sumergidos en el profundo vaho de los insectos, nos sentamos a pensar en ella. Lo habíamos hecho otras veces. Podíamos haber dicho que estábamos haciendo lo que habíamos hecho todos los días de nuestras vidas.\n",
        "Sin embargo, aquella noche era distinto; ella había dicho que no volvería a sonreír, y nosotros que tanto la conocíamos, teníamos la certidumbre de que la pesadilla se había vuelto verdad. Sentados en un triángulo la imaginábamos allá adentro, abstracta, incapacitada, hasta para escuchar los innumerables relojes que medían el ritmo, marcado y minucioso, en que se iba convirtiendo en polvo: “Si por lo menos tuviéramos valor para desear su muerte”, pensábamos a coro.\n",
        "\"\"\""
      ],
      "metadata": {
        "id": "pigfaY1nw1QQ"
      },
      "execution_count": null,
      "outputs": []
    },
    {
      "cell_type": "code",
      "execution_count": null,
      "metadata": {
        "colab": {
          "base_uri": "https://localhost:8080/"
        },
        "id": "i7tY3Bsfwjt2",
        "outputId": "38540fb7-abba-4778-9285-a88a53d9769e"
      },
      "outputs": [
        {
          "output_type": "stream",
          "name": "stderr",
          "text": [
            "WARNING:gensim.models.word2vec:Effective 'alpha' higher than previous training cycles\n"
          ]
        },
        {
          "output_type": "execute_result",
          "data": {
            "text/plain": [
              "(1332, 2180)"
            ]
          },
          "metadata": {},
          "execution_count": 3
        }
      ],
      "source": [
        "tokenized_text = word_tokenize(texto.lower())  # Convertir a minúsculas para la consistencia\n",
        "filtered_words = [word for word in tokenized_text if len(word) >= 5]\n",
        "modelo_w2v = Word2Vec(sentences=[filtered_words], vector_size=100, window=5, min_count=1, workers=4)\n",
        "modelo_w2v.train([filtered_words], total_examples=1, epochs=10)"
      ]
    },
    {
      "cell_type": "code",
      "source": [
        "filtered_words[0:10]"
      ],
      "metadata": {
        "colab": {
          "base_uri": "https://localhost:8080/"
        },
        "id": "AFlN7cGKwnyE",
        "outputId": "bb4bc76d-3986-4ed6-d529-c3f4a89cd2c0"
      },
      "execution_count": null,
      "outputs": [
        {
          "output_type": "execute_result",
          "data": {
            "text/plain": [
              "['ahora',\n",
              " 'teníamos',\n",
              " 'abandonada',\n",
              " 'rincón',\n",
              " 'alguien',\n",
              " 'antes',\n",
              " 'trajéramos',\n",
              " 'cosas',\n",
              " 'olorosa',\n",
              " 'madera']"
            ]
          },
          "metadata": {},
          "execution_count": 5
        }
      ]
    },
    {
      "cell_type": "code",
      "source": [
        "# Obtener el vector de una palabra específica\n",
        "vector_ejemplo = modelo_w2v.wv['pensamientos']\n",
        "print(\"Vector de 'ejemplo': \", vector_ejemplo)"
      ],
      "metadata": {
        "colab": {
          "base_uri": "https://localhost:8080/"
        },
        "id": "jC-xQ-k8xBCm",
        "outputId": "b5e42cf6-44aa-46a4-e6dc-fe4a5262ecb4"
      },
      "execution_count": null,
      "outputs": [
        {
          "output_type": "stream",
          "name": "stdout",
          "text": [
            "Vector de 'ejemplo':  [-8.9445887e-03  9.0059219e-03 -9.7101526e-03  2.3594892e-03\n",
            "  8.1101041e-03  3.4507492e-03 -1.0902813e-03 -8.0635883e-03\n",
            " -9.7318683e-03 -5.7762749e-03  8.1718946e-03  7.3199077e-03\n",
            " -1.4495449e-04  6.0932469e-03  6.7350534e-03  5.7603982e-03\n",
            " -3.9385767e-03 -8.3342344e-03 -7.9468880e-03  3.2035934e-04\n",
            " -8.3900476e-03  9.4928155e-03  2.2399458e-03  7.3808655e-03\n",
            "  6.0542566e-03  9.9691814e-03 -2.8042279e-03  2.7076877e-03\n",
            "  8.3128765e-04  4.7241808e-03  3.0979249e-03 -7.6220389e-03\n",
            "  9.3527259e-03 -1.9701978e-03 -1.0033473e-02  5.9491373e-03\n",
            "  6.5556066e-03 -5.0024982e-03  4.5774840e-03 -1.7084155e-03\n",
            "  3.9989753e-03 -8.5221138e-03  4.3523833e-03 -1.4615967e-03\n",
            "  3.2277219e-03 -4.7454508e-03  8.9887911e-03  3.3659542e-03\n",
            " -6.4948378e-03  8.5488912e-03  6.3735018e-03  5.2710944e-03\n",
            "  8.8790562e-03  1.5086767e-04  2.6929181e-03  2.7334481e-03\n",
            "  4.4792318e-03 -8.0718557e-05  4.5535723e-03 -8.5644174e-04\n",
            "  3.0901122e-03  8.8039665e-03 -1.2516219e-03  2.6135799e-04\n",
            " -1.6229716e-03 -1.1351776e-03  2.9527962e-03 -8.8107549e-03\n",
            "  5.8853291e-03 -5.1091458e-03 -5.2992105e-03  6.9368831e-03\n",
            " -1.7003661e-03 -8.6952262e-03 -3.9717397e-03 -5.9852730e-03\n",
            "  1.7095390e-03  7.5165308e-03  5.3588431e-03  7.8050238e-03\n",
            "  8.1427246e-03 -7.3502667e-04 -8.5364673e-03  3.5887663e-03\n",
            "  8.4016602e-03 -5.7126028e-03 -9.7178100e-03  1.0913746e-03\n",
            " -2.5652556e-03 -5.3344580e-04 -1.7007140e-03  4.3915776e-03\n",
            "  1.1992049e-03  6.0599176e-03  5.3819232e-03 -5.6537408e-03\n",
            " -1.8163233e-03  8.8777272e-03 -2.5633196e-03  5.6416322e-03]\n"
          ]
        }
      ]
    },
    {
      "cell_type": "code",
      "source": [
        "len(filtered_words)"
      ],
      "metadata": {
        "colab": {
          "base_uri": "https://localhost:8080/"
        },
        "id": "5gCKBjdjudT6",
        "outputId": "d4f87517-60e5-4fab-cee8-3cb7f33870af"
      },
      "execution_count": null,
      "outputs": [
        {
          "output_type": "execute_result",
          "data": {
            "text/plain": [
              "218"
            ]
          },
          "metadata": {},
          "execution_count": 7
        }
      ]
    },
    {
      "cell_type": "code",
      "source": [
        "len(modelo_w2v.wv.index_to_key)"
      ],
      "metadata": {
        "colab": {
          "base_uri": "https://localhost:8080/"
        },
        "id": "uYcQM7i2uCfB",
        "outputId": "5e55307e-26f8-42fe-a357-6c306d267712"
      },
      "execution_count": null,
      "outputs": [
        {
          "output_type": "execute_result",
          "data": {
            "text/plain": [
              "181"
            ]
          },
          "metadata": {},
          "execution_count": 8
        }
      ]
    },
    {
      "cell_type": "code",
      "source": [
        "word_vectors = [modelo_w2v.wv[word] for word in modelo_w2v.wv.index_to_key]"
      ],
      "metadata": {
        "id": "DBdjz-w0uN1X"
      },
      "execution_count": null,
      "outputs": []
    },
    {
      "cell_type": "code",
      "source": [
        "import gensim\n",
        "from sklearn.decomposition import PCA\n",
        "import plotly.express as px\n",
        "import pandas as pd"
      ],
      "metadata": {
        "id": "6p3apF9qux0m"
      },
      "execution_count": null,
      "outputs": []
    },
    {
      "cell_type": "code",
      "source": [
        "pca = PCA(n_components=2)\n",
        "result = pca.fit_transform(word_vectors)"
      ],
      "metadata": {
        "id": "_bJFHpXcvK2l"
      },
      "execution_count": null,
      "outputs": []
    },
    {
      "cell_type": "code",
      "source": [
        "df = pd.DataFrame(result, columns=['component1', 'component2'])\n",
        "df['word'] = modelo_w2v.wv.index_to_key"
      ],
      "metadata": {
        "id": "Uvdv8vsAtyMT"
      },
      "execution_count": null,
      "outputs": []
    },
    {
      "cell_type": "code",
      "source": [
        "fig = px.scatter(df, x='component1', y='component2',\n",
        "                 text='word', title='Visualización de Vectores 2D Word2Vec Cuento García Márquez',\n",
        "                 width=1200, height=1200)\n",
        "fig.update_traces(marker={'size': 1})\n",
        "fig.show()"
      ],
      "metadata": {
        "colab": {
          "base_uri": "https://localhost:8080/",
          "height": 1000
        },
        "id": "mQFC6seWvYyI",
        "outputId": "1217b0d5-a628-4e78-a4de-e89bfe9d1bd6"
      },
      "execution_count": null,
      "outputs": [
        {
          "output_type": "display_data",
          "data": {
            "text/html": [
              "<html>\n",
              "<head><meta charset=\"utf-8\" /></head>\n",
              "<body>\n",
              "    <div>            <script src=\"https://cdnjs.cloudflare.com/ajax/libs/mathjax/2.7.5/MathJax.js?config=TeX-AMS-MML_SVG\"></script><script type=\"text/javascript\">if (window.MathJax && window.MathJax.Hub && window.MathJax.Hub.Config) {window.MathJax.Hub.Config({SVG: {font: \"STIX-Web\"}});}</script>                <script type=\"text/javascript\">window.PlotlyConfig = {MathJaxConfig: 'local'};</script>\n",
              "        <script charset=\"utf-8\" src=\"https://cdn.plot.ly/plotly-2.24.1.min.js\"></script>                <div id=\"c73a9711-2084-4531-a5d6-5a3ff3431224\" class=\"plotly-graph-div\" style=\"height:1200px; width:1200px;\"></div>            <script type=\"text/javascript\">                                    window.PLOTLYENV=window.PLOTLYENV || {};                                    if (document.getElementById(\"c73a9711-2084-4531-a5d6-5a3ff3431224\")) {                    Plotly.newPlot(                        \"c73a9711-2084-4531-a5d6-5a3ff3431224\",                        [{\"hovertemplate\":\"component1=%{x}\\u003cbr\\u003ecomponent2=%{y}\\u003cbr\\u003eword=%{text}\\u003cextra\\u003e\\u003c\\u002fextra\\u003e\",\"legendgroup\":\"\",\"marker\":{\"color\":\"#636efa\",\"symbol\":\"circle\",\"size\":1},\"mode\":\"markers+text\",\"name\":\"\",\"orientation\":\"v\",\"showlegend\":false,\"text\":[\"hab\\u00eda\",\"todav\\u00eda\",\"cuando\",\"rinc\\u00f3n\",\"aquella\",\"infancia\",\"hab\\u00edamos\",\"mucho\",\"ahora\",\"siempre\",\"gritos\",\"empez\\u00f3\",\"adentro\",\"hecho\",\"sentada\",\"sonre\\u00edr\",\"patio\",\"dicho\",\"hacia\",\"entonces\",\"profundo\",\"alguna\",\"ten\\u00edamos\",\"l\\u00e1grimas\",\"hasta\",\"sentamos\",\"alguien\",\"antes\",\"encima\",\"humana\",\"inesperada\",\"dimos\",\"cre\\u00eddo\",\"tarde\",\"tremendo\",\"completamente\",\"cuenta\",\"submundo\",\"cristal\",\"supimos\",\"pronto\",\"hubiera\",\"cuerpo\",\"angustiados\",\"llamarnos\",\"nombre\",\"hablando\",\"entre\",\"junto\",\"pusimos\",\"cantar\",\"batir\",\"palmas\",\"sombra\",\"tacto\",\"perfil\",\"pod\\u00eda\",\"canto\",\"soledad\",\"atractivo\",\"dulces\",\"sabores\",\"lenta\",\"acostumbrarse\",\"barro\\u2014\",\"espaldas\",\"zapatos\",\"reciente\",\"madera\",\"olorosa\",\"cosas\",\"traj\\u00e9ramos\",\"abandonada\",\"apretada\",\"pasado\",\"soport\\u00f3\",\"sobre\",\"lluvia\",\"anticipada\",\"frescura\",\"sensible\",\"griter\\u00eda\",\"acept\\u00e1bamos\",\"labios\",\"puesto\",\"tiempo\",\"asombrados\",\"vi\\u00e9ndola\",\"cre\\u00edmos\",\"quiz\\u00e1s\",\"tenido\",\"tambi\\u00e9n\",\"record\\u00e1ramos\\u2014\",\"nuestra\",\"pens\\u00e1bamos\",\"pudiera\",\"nuestras\",\"conoc\\u00edamos\",\"tanto\",\"nosotros\",\"volver\\u00eda\",\"distinto\",\"noche\",\"embargo\",\"vidas\",\"todos\",\"pesadilla\",\"haciendo\",\"est\\u00e1bamos\",\"haber\",\"pod\\u00edamos\",\"veces\",\"otras\",\"pensar\",\"insectos\",\"certidumbre\",\"vuelto\",\"soldar\",\"ritmo\",\"desear\",\"valor\",\"tuvi\\u00e9ramos\",\"menos\",\"polvo\",\"convirtiendo\",\"minucioso\",\"marcado\",\"med\\u00edan\",\"verdad\",\"relojes\",\"innumerables\",\"escuchar\",\"incapacitada\",\"abstracta\",\"imagin\\u00e1bamos\",\"tri\\u00e1ngulo\",\"sentados\",\"sumergidos\",\"afuera\",\"bestia\",\"incorpor\\u00f3\",\"salimos\",\"volver\\u00e9\",\"nariz\",\"sonarse\",\"delantal\",\"cubrirse\",\"adelante\",\"inclin\\u00f3\",\"recordado\",\"tr\\u00e1nsito\",\"\\u00e1rbol\",\"tuvieran\",\"revelaci\\u00f3n\",\"parecieran\",\"creer\",\"pudimos\",\"muerte\",\"cristales\",\"hablar\",\"acaso\",\"cre\\u00edamos\",\"llevar\",\"sobrevivir\\u00eda\",\"\\u00fanico\",\"parec\\u00eda\",\"final\",\"trenza\",\"teji\\u00e9ndose\",\"sombr\\u00edo\",\"\\u2014quiz\\u00e1s\\u2014\",\"estar\",\"deseaba\",\"luces\",\"encender\",\"mejor\",\"ser\\u00eda\",\"pensamos\",\"comunes\",\"pensamientos\",\"esparcidos\"],\"x\":[-0.0026721598010659895,-0.013686044785821944,0.016943439628512327,-0.0007597765470534927,-0.004798229339601977,0.01709820338767358,0.00763283079285048,0.0057864470189425985,0.0035079096090596708,0.004303663289961693,-0.008468191672614754,0.0044082768305070625,-0.016327927283143657,-0.007998048209486405,-0.012891405098912286,-0.003647514855184946,0.005353153282589114,0.006530922435082731,0.008413564420369677,0.0020597951193413694,0.012065835852257187,-0.016093935188970232,-0.012956934378972077,-0.021582602327464614,0.005604479173171729,-0.004515077367605586,-0.005157530945357585,-0.003611869531984698,-0.004450000560802525,0.003210853107357014,0.004112156326868722,-0.004855931224889316,-0.007642736680714501,0.0012336673062852365,0.0004948253640925313,-0.00922051773924021,0.003835033150593256,0.0016711908376557734,-0.0012231023905382482,-0.011987454711875388,-0.012523836296791248,0.011635527298924132,0.005814581449447588,-0.008363871520432671,0.0068487796787488515,-0.010927711733325665,0.008847441072447844,0.012222223107074362,-0.0062406982324176965,-0.009766099164738968,0.01425790379050349,-0.0015671230181220522,-0.007727258775640578,0.01064609890046331,0.006651201927117651,0.003676360362881196,-0.01351959788913949,0.005742128007084684,0.019348427545571062,0.01806648093727842,-0.007940514603188169,0.003496165198758355,0.0042611426741769156,-0.005562255852124681,0.008641339122183308,-0.01223642598901451,0.0015839356276424992,0.012047134599748096,0.019836859945176394,-0.0007217030524477766,0.019894048387096817,-0.014720146314770267,0.01410893411915529,0.012353481696814345,-0.01758241920324561,-0.013568511639475601,-0.009132464963509212,-0.00613088346080392,0.002119589112597492,0.0016082136559918158,0.0012465706647988564,0.0006493001354076103,0.02609966807300578,0.017218203014358564,-0.016587362653501837,0.008735047606888,-0.006471740496792822,0.00021625802505714092,0.011786952035592076,-0.0006359795474224448,-0.004886114950345365,0.0014622886042515736,-0.007793777379750096,0.012166789797172155,0.0034324054655773904,0.001399941479841488,-0.007976543701596074,0.021865183440702433,-0.005577316416626782,-0.00808374716560128,-0.011973757957193807,-0.020766119985627225,0.012204566301729168,0.0009829333441751535,-0.014799114514191126,0.0038430621335029,-0.009086555026252854,-0.00039548689160293977,0.004285187166095208,-0.002670584819534178,0.008401026665730317,0.014160179649234057,-0.0073252526766328045,0.00630301341442897,0.010599719031979789,-0.008297594931144351,0.01606633189852105,0.004850441837652386,0.004317919736045187,0.008245863146393634,0.005006414688385787,-0.00283176986259136,-0.012345807753967063,-0.009569323700327242,-0.0022256017427950744,9.344632688964019e-05,-0.017687863797572194,-0.0052751540075116786,0.0033204767067054226,0.0026882415428265668,0.008048501463511916,0.000654831261742726,0.003299568317506154,-0.0022994272288950233,-0.009384218361466957,0.01242666772952408,-0.01189218931643758,0.015453905603463113,0.005616291850999938,0.012179364626549456,0.0045849180824755285,0.0026899167571639813,-0.005332644938555152,0.005127018980449451,-0.0012638138015716057,-0.0035028504939213535,1.338519212541102e-06,-0.003612015435892833,-0.003328970572644792,0.020974603929293754,0.009235440965514699,0.0007248343965303663,0.014213097042207468,-0.004322464914592429,0.014929213442955096,0.0022756929145701346,-0.0066885606357417636,-0.0026600953846448584,0.017267304156377932,-0.003148090376365677,0.00250584564823256,-0.009458086694006296,-0.0006120030410619508,0.0005532401068855265,-0.0035883096344101846,-0.006065474158524651,-0.011254675658009989,-0.002339042851839145,-0.008335617267565253,-0.00484301644804804,-0.009783664137184005,0.004111875388078438,-0.006490252869752819,-0.02025174508336848,-0.005789815259955078,-0.01088612940389357,0.016397983898811433,-0.02226811138329759,-0.02214664241879332,-0.0004279890049418682,-0.004876133060608849],\"xaxis\":\"x\",\"y\":[0.019082678299437203,-0.00600373564533449,-0.002462215949483548,0.004073935216446641,-0.016799764363074995,0.0024167299203980944,0.0001569200621115204,-0.012212976526249747,0.02000385346032307,0.019309802480173253,0.007743103055022408,0.001110478584319875,0.014139544403593607,-0.020468335026857222,0.0027284591305228455,0.0010314206047443014,0.00010443066450532811,-0.017841443287297074,-0.0014623602846441782,0.0016953339289949465,0.007678159372578272,-0.004376666731101339,-0.007247443352254693,-0.007086982666538604,0.0010964051495257019,-0.012026039495020874,-0.006289257993950106,0.010930327048393812,0.0027184150383946647,0.0011139769696997305,0.003588126268870124,-0.0116637545108065,0.010720642852516242,-0.008917323696619368,0.002672432572163334,0.0030150411052148164,0.004495596915298849,0.0027121158602613693,-0.0068031430891926535,-0.008379976170099376,-0.00017285067159803248,0.0015823212320218742,0.003523610447941842,0.02093029937628281,0.020823522264850694,-0.013222448517170164,-0.00959248694682708,0.002528466696475675,-0.009552166095858176,-0.006094156396079233,0.0036815726122988858,-0.008299715933188524,0.005011135806396732,0.01776374995265318,0.0015865484837302192,-0.013160842529259854,0.0013158731708652824,0.010518595978754442,0.005141944205184988,0.0013104635781010163,-0.014471912457617458,-0.004499726696631219,0.007356980184066742,-0.009051877771598679,-0.007918252297413197,0.008650262728706944,-0.008369716458889516,-0.01172260686095211,-0.0072787868317199566,-0.013193529038243645,0.003685198435372002,0.006729285335535782,0.010808860764213933,-0.010934243176436584,0.017206970926017688,-0.0018165041962995958,0.005634511729226273,-0.008296749723679444,-0.011645231603824458,-0.013334971558999147,0.003108683829474277,0.007637563248357062,7.529130445430708e-05,-0.00797738651161631,-0.01075400908923326,-0.006375590781239523,0.002372223853906393,-0.014099981739578334,0.0018166230921999708,0.006087654701453009,-0.010491398074438421,0.007237911539999782,-0.004116906998691842,0.009110129085993212,-0.010974033747179455,-0.010785333462354487,0.014078013461010768,-0.016839113988559667,0.011099797605107037,-0.01175330596868068,-0.007428953564626123,-0.00454316508245288,-0.017208919611814547,-0.014017958587694935,0.0004181854703179563,-0.004121333384739222,-0.003831423872064855,0.008867231371321166,0.005816207595354134,-0.0011727893839109888,-0.005290369052289496,-0.0032078531686105813,0.015518556794382668,0.0011550907946414884,-0.009900281610541092,0.0003667374899909624,0.013016678661897478,0.010509383031752502,-0.012165590862312217,0.007618260115389308,0.005000271562843186,0.018932594628266287,-0.014391346904589732,-0.00585786061491699,-0.012731266161842496,-0.001281785913305002,0.017120483081675318,0.0017773322879249011,0.006415505686295713,0.0003074506167658186,0.005932972961991618,-0.010782913664785563,0.007360079508125239,-0.006954508238439529,-0.005630380468087779,-0.0014570757893754818,0.012028818813327359,-0.020293188244117976,0.0153840774737355,0.01830015962504352,0.03069313189658809,0.006870702337974861,-0.0017852132079330361,0.006621725583851577,-0.005612612102399634,0.006328321689718783,0.001980226677547786,-0.01687749153398808,0.00048775764385351007,-0.010881582746956768,-0.0074281464274998845,0.010421582193545734,-0.007789757284267351,-0.0015317693769471134,-0.011651182258697677,0.007574856958041063,-0.01708377555418353,0.0032060963982908594,0.008865861319308313,0.006657033141538985,0.0037913458446148266,-0.009146234000255776,0.011527755202786953,0.0010268058874053642,-0.0072021219452864825,0.00899373714228259,-0.009323901439612956,0.0009934389871813138,-0.0005326843518227653,0.004495045205647651,-0.007501098088618021,0.00707827094101222,0.003963078521825314,0.006380981975390311,0.016570280031388284,0.0010593311059478678,0.013408521664374127,-0.008136119804075186,0.012856834563359391,0.006524200829588556,-0.0013850866928247127],\"yaxis\":\"y\",\"type\":\"scatter\"}],                        {\"template\":{\"data\":{\"histogram2dcontour\":[{\"type\":\"histogram2dcontour\",\"colorbar\":{\"outlinewidth\":0,\"ticks\":\"\"},\"colorscale\":[[0.0,\"#0d0887\"],[0.1111111111111111,\"#46039f\"],[0.2222222222222222,\"#7201a8\"],[0.3333333333333333,\"#9c179e\"],[0.4444444444444444,\"#bd3786\"],[0.5555555555555556,\"#d8576b\"],[0.6666666666666666,\"#ed7953\"],[0.7777777777777778,\"#fb9f3a\"],[0.8888888888888888,\"#fdca26\"],[1.0,\"#f0f921\"]]}],\"choropleth\":[{\"type\":\"choropleth\",\"colorbar\":{\"outlinewidth\":0,\"ticks\":\"\"}}],\"histogram2d\":[{\"type\":\"histogram2d\",\"colorbar\":{\"outlinewidth\":0,\"ticks\":\"\"},\"colorscale\":[[0.0,\"#0d0887\"],[0.1111111111111111,\"#46039f\"],[0.2222222222222222,\"#7201a8\"],[0.3333333333333333,\"#9c179e\"],[0.4444444444444444,\"#bd3786\"],[0.5555555555555556,\"#d8576b\"],[0.6666666666666666,\"#ed7953\"],[0.7777777777777778,\"#fb9f3a\"],[0.8888888888888888,\"#fdca26\"],[1.0,\"#f0f921\"]]}],\"heatmap\":[{\"type\":\"heatmap\",\"colorbar\":{\"outlinewidth\":0,\"ticks\":\"\"},\"colorscale\":[[0.0,\"#0d0887\"],[0.1111111111111111,\"#46039f\"],[0.2222222222222222,\"#7201a8\"],[0.3333333333333333,\"#9c179e\"],[0.4444444444444444,\"#bd3786\"],[0.5555555555555556,\"#d8576b\"],[0.6666666666666666,\"#ed7953\"],[0.7777777777777778,\"#fb9f3a\"],[0.8888888888888888,\"#fdca26\"],[1.0,\"#f0f921\"]]}],\"heatmapgl\":[{\"type\":\"heatmapgl\",\"colorbar\":{\"outlinewidth\":0,\"ticks\":\"\"},\"colorscale\":[[0.0,\"#0d0887\"],[0.1111111111111111,\"#46039f\"],[0.2222222222222222,\"#7201a8\"],[0.3333333333333333,\"#9c179e\"],[0.4444444444444444,\"#bd3786\"],[0.5555555555555556,\"#d8576b\"],[0.6666666666666666,\"#ed7953\"],[0.7777777777777778,\"#fb9f3a\"],[0.8888888888888888,\"#fdca26\"],[1.0,\"#f0f921\"]]}],\"contourcarpet\":[{\"type\":\"contourcarpet\",\"colorbar\":{\"outlinewidth\":0,\"ticks\":\"\"}}],\"contour\":[{\"type\":\"contour\",\"colorbar\":{\"outlinewidth\":0,\"ticks\":\"\"},\"colorscale\":[[0.0,\"#0d0887\"],[0.1111111111111111,\"#46039f\"],[0.2222222222222222,\"#7201a8\"],[0.3333333333333333,\"#9c179e\"],[0.4444444444444444,\"#bd3786\"],[0.5555555555555556,\"#d8576b\"],[0.6666666666666666,\"#ed7953\"],[0.7777777777777778,\"#fb9f3a\"],[0.8888888888888888,\"#fdca26\"],[1.0,\"#f0f921\"]]}],\"surface\":[{\"type\":\"surface\",\"colorbar\":{\"outlinewidth\":0,\"ticks\":\"\"},\"colorscale\":[[0.0,\"#0d0887\"],[0.1111111111111111,\"#46039f\"],[0.2222222222222222,\"#7201a8\"],[0.3333333333333333,\"#9c179e\"],[0.4444444444444444,\"#bd3786\"],[0.5555555555555556,\"#d8576b\"],[0.6666666666666666,\"#ed7953\"],[0.7777777777777778,\"#fb9f3a\"],[0.8888888888888888,\"#fdca26\"],[1.0,\"#f0f921\"]]}],\"mesh3d\":[{\"type\":\"mesh3d\",\"colorbar\":{\"outlinewidth\":0,\"ticks\":\"\"}}],\"scatter\":[{\"fillpattern\":{\"fillmode\":\"overlay\",\"size\":10,\"solidity\":0.2},\"type\":\"scatter\"}],\"parcoords\":[{\"type\":\"parcoords\",\"line\":{\"colorbar\":{\"outlinewidth\":0,\"ticks\":\"\"}}}],\"scatterpolargl\":[{\"type\":\"scatterpolargl\",\"marker\":{\"colorbar\":{\"outlinewidth\":0,\"ticks\":\"\"}}}],\"bar\":[{\"error_x\":{\"color\":\"#2a3f5f\"},\"error_y\":{\"color\":\"#2a3f5f\"},\"marker\":{\"line\":{\"color\":\"#E5ECF6\",\"width\":0.5},\"pattern\":{\"fillmode\":\"overlay\",\"size\":10,\"solidity\":0.2}},\"type\":\"bar\"}],\"scattergeo\":[{\"type\":\"scattergeo\",\"marker\":{\"colorbar\":{\"outlinewidth\":0,\"ticks\":\"\"}}}],\"scatterpolar\":[{\"type\":\"scatterpolar\",\"marker\":{\"colorbar\":{\"outlinewidth\":0,\"ticks\":\"\"}}}],\"histogram\":[{\"marker\":{\"pattern\":{\"fillmode\":\"overlay\",\"size\":10,\"solidity\":0.2}},\"type\":\"histogram\"}],\"scattergl\":[{\"type\":\"scattergl\",\"marker\":{\"colorbar\":{\"outlinewidth\":0,\"ticks\":\"\"}}}],\"scatter3d\":[{\"type\":\"scatter3d\",\"line\":{\"colorbar\":{\"outlinewidth\":0,\"ticks\":\"\"}},\"marker\":{\"colorbar\":{\"outlinewidth\":0,\"ticks\":\"\"}}}],\"scattermapbox\":[{\"type\":\"scattermapbox\",\"marker\":{\"colorbar\":{\"outlinewidth\":0,\"ticks\":\"\"}}}],\"scatterternary\":[{\"type\":\"scatterternary\",\"marker\":{\"colorbar\":{\"outlinewidth\":0,\"ticks\":\"\"}}}],\"scattercarpet\":[{\"type\":\"scattercarpet\",\"marker\":{\"colorbar\":{\"outlinewidth\":0,\"ticks\":\"\"}}}],\"carpet\":[{\"aaxis\":{\"endlinecolor\":\"#2a3f5f\",\"gridcolor\":\"white\",\"linecolor\":\"white\",\"minorgridcolor\":\"white\",\"startlinecolor\":\"#2a3f5f\"},\"baxis\":{\"endlinecolor\":\"#2a3f5f\",\"gridcolor\":\"white\",\"linecolor\":\"white\",\"minorgridcolor\":\"white\",\"startlinecolor\":\"#2a3f5f\"},\"type\":\"carpet\"}],\"table\":[{\"cells\":{\"fill\":{\"color\":\"#EBF0F8\"},\"line\":{\"color\":\"white\"}},\"header\":{\"fill\":{\"color\":\"#C8D4E3\"},\"line\":{\"color\":\"white\"}},\"type\":\"table\"}],\"barpolar\":[{\"marker\":{\"line\":{\"color\":\"#E5ECF6\",\"width\":0.5},\"pattern\":{\"fillmode\":\"overlay\",\"size\":10,\"solidity\":0.2}},\"type\":\"barpolar\"}],\"pie\":[{\"automargin\":true,\"type\":\"pie\"}]},\"layout\":{\"autotypenumbers\":\"strict\",\"colorway\":[\"#636efa\",\"#EF553B\",\"#00cc96\",\"#ab63fa\",\"#FFA15A\",\"#19d3f3\",\"#FF6692\",\"#B6E880\",\"#FF97FF\",\"#FECB52\"],\"font\":{\"color\":\"#2a3f5f\"},\"hovermode\":\"closest\",\"hoverlabel\":{\"align\":\"left\"},\"paper_bgcolor\":\"white\",\"plot_bgcolor\":\"#E5ECF6\",\"polar\":{\"bgcolor\":\"#E5ECF6\",\"angularaxis\":{\"gridcolor\":\"white\",\"linecolor\":\"white\",\"ticks\":\"\"},\"radialaxis\":{\"gridcolor\":\"white\",\"linecolor\":\"white\",\"ticks\":\"\"}},\"ternary\":{\"bgcolor\":\"#E5ECF6\",\"aaxis\":{\"gridcolor\":\"white\",\"linecolor\":\"white\",\"ticks\":\"\"},\"baxis\":{\"gridcolor\":\"white\",\"linecolor\":\"white\",\"ticks\":\"\"},\"caxis\":{\"gridcolor\":\"white\",\"linecolor\":\"white\",\"ticks\":\"\"}},\"coloraxis\":{\"colorbar\":{\"outlinewidth\":0,\"ticks\":\"\"}},\"colorscale\":{\"sequential\":[[0.0,\"#0d0887\"],[0.1111111111111111,\"#46039f\"],[0.2222222222222222,\"#7201a8\"],[0.3333333333333333,\"#9c179e\"],[0.4444444444444444,\"#bd3786\"],[0.5555555555555556,\"#d8576b\"],[0.6666666666666666,\"#ed7953\"],[0.7777777777777778,\"#fb9f3a\"],[0.8888888888888888,\"#fdca26\"],[1.0,\"#f0f921\"]],\"sequentialminus\":[[0.0,\"#0d0887\"],[0.1111111111111111,\"#46039f\"],[0.2222222222222222,\"#7201a8\"],[0.3333333333333333,\"#9c179e\"],[0.4444444444444444,\"#bd3786\"],[0.5555555555555556,\"#d8576b\"],[0.6666666666666666,\"#ed7953\"],[0.7777777777777778,\"#fb9f3a\"],[0.8888888888888888,\"#fdca26\"],[1.0,\"#f0f921\"]],\"diverging\":[[0,\"#8e0152\"],[0.1,\"#c51b7d\"],[0.2,\"#de77ae\"],[0.3,\"#f1b6da\"],[0.4,\"#fde0ef\"],[0.5,\"#f7f7f7\"],[0.6,\"#e6f5d0\"],[0.7,\"#b8e186\"],[0.8,\"#7fbc41\"],[0.9,\"#4d9221\"],[1,\"#276419\"]]},\"xaxis\":{\"gridcolor\":\"white\",\"linecolor\":\"white\",\"ticks\":\"\",\"title\":{\"standoff\":15},\"zerolinecolor\":\"white\",\"automargin\":true,\"zerolinewidth\":2},\"yaxis\":{\"gridcolor\":\"white\",\"linecolor\":\"white\",\"ticks\":\"\",\"title\":{\"standoff\":15},\"zerolinecolor\":\"white\",\"automargin\":true,\"zerolinewidth\":2},\"scene\":{\"xaxis\":{\"backgroundcolor\":\"#E5ECF6\",\"gridcolor\":\"white\",\"linecolor\":\"white\",\"showbackground\":true,\"ticks\":\"\",\"zerolinecolor\":\"white\",\"gridwidth\":2},\"yaxis\":{\"backgroundcolor\":\"#E5ECF6\",\"gridcolor\":\"white\",\"linecolor\":\"white\",\"showbackground\":true,\"ticks\":\"\",\"zerolinecolor\":\"white\",\"gridwidth\":2},\"zaxis\":{\"backgroundcolor\":\"#E5ECF6\",\"gridcolor\":\"white\",\"linecolor\":\"white\",\"showbackground\":true,\"ticks\":\"\",\"zerolinecolor\":\"white\",\"gridwidth\":2}},\"shapedefaults\":{\"line\":{\"color\":\"#2a3f5f\"}},\"annotationdefaults\":{\"arrowcolor\":\"#2a3f5f\",\"arrowhead\":0,\"arrowwidth\":1},\"geo\":{\"bgcolor\":\"white\",\"landcolor\":\"#E5ECF6\",\"subunitcolor\":\"white\",\"showland\":true,\"showlakes\":true,\"lakecolor\":\"white\"},\"title\":{\"x\":0.05},\"mapbox\":{\"style\":\"light\"}}},\"xaxis\":{\"anchor\":\"y\",\"domain\":[0.0,1.0],\"title\":{\"text\":\"component1\"}},\"yaxis\":{\"anchor\":\"x\",\"domain\":[0.0,1.0],\"title\":{\"text\":\"component2\"}},\"legend\":{\"tracegroupgap\":0},\"title\":{\"text\":\"Visualizaci\\u00f3n de Vectores 2D Word2Vec Cuento Garc\\u00eda M\\u00e1rquez\"},\"height\":1200,\"width\":1200},                        {\"responsive\": true}                    ).then(function(){\n",
              "                            \n",
              "var gd = document.getElementById('c73a9711-2084-4531-a5d6-5a3ff3431224');\n",
              "var x = new MutationObserver(function (mutations, observer) {{\n",
              "        var display = window.getComputedStyle(gd).display;\n",
              "        if (!display || display === 'none') {{\n",
              "            console.log([gd, 'removed!']);\n",
              "            Plotly.purge(gd);\n",
              "            observer.disconnect();\n",
              "        }}\n",
              "}});\n",
              "\n",
              "// Listen for the removal of the full notebook cells\n",
              "var notebookContainer = gd.closest('#notebook-container');\n",
              "if (notebookContainer) {{\n",
              "    x.observe(notebookContainer, {childList: true});\n",
              "}}\n",
              "\n",
              "// Listen for the clearing of the current output cell\n",
              "var outputEl = gd.closest('.output');\n",
              "if (outputEl) {{\n",
              "    x.observe(outputEl, {childList: true});\n",
              "}}\n",
              "\n",
              "                        })                };                            </script>        </div>\n",
              "</body>\n",
              "</html>"
            ]
          },
          "metadata": {}
        }
      ]
    },
    {
      "cell_type": "code",
      "source": [],
      "metadata": {
        "id": "uuxkKVVtyua5"
      },
      "execution_count": null,
      "outputs": []
    }
  ]
}

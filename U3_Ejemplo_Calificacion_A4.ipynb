{
  "cells": [
    {
      "cell_type": "markdown",
      "metadata": {
        "id": "view-in-github",
        "colab_type": "text"
      },
      "source": [
        "<a href=\"https://colab.research.google.com/github/jcmachicaocuf/codigos_CUF_LLM_NLP/blob/main/CUF_Calificacion_A4.ipynb\" target=\"_parent\"><img src=\"https://colab.research.google.com/assets/colab-badge.svg\" alt=\"Open In Colab\"/></a>"
      ]
    },
    {
      "cell_type": "code",
      "execution_count": null,
      "id": "a1334b96-ab6a-482c-8797-2a3c5ea91ed9",
      "metadata": {
        "id": "a1334b96-ab6a-482c-8797-2a3c5ea91ed9"
      },
      "outputs": [],
      "source": [
        "import pandas as pd\n",
        "import random\n",
        "import os\n",
        "import pandas as pd\n",
        "import re"
      ]
    },
    {
      "cell_type": "code",
      "execution_count": null,
      "id": "b58e21b4-4e32-4d8a-a219-a862bd3c55d6",
      "metadata": {
        "jupyter": {
          "outputs_hidden": true
        },
        "tags": [],
        "id": "b58e21b4-4e32-4d8a-a219-a862bd3c55d6"
      },
      "outputs": [],
      "source": [
        "ruta = 'D://'\n",
        "os.listdir(ruta)"
      ]
    },
    {
      "cell_type": "code",
      "execution_count": null,
      "id": "f81e9ea9-3c81-4e3d-a546-dd0e7eb58679",
      "metadata": {
        "id": "f81e9ea9-3c81-4e3d-a546-dd0e7eb58679"
      },
      "outputs": [],
      "source": [
        "data = pd.read_excel(ruta+'CUF A4 Textos.xlsx')"
      ]
    },
    {
      "cell_type": "code",
      "execution_count": null,
      "id": "8ed33a87-bf07-4c2e-adea-89d144891474",
      "metadata": {
        "id": "8ed33a87-bf07-4c2e-adea-89d144891474",
        "outputId": "0d50a971-9408-444b-c2ad-87bc7b149aeb"
      },
      "outputs": [
        {
          "data": {
            "text/plain": [
              "Index(['estudiante', 'texto_evaluacion', 'largo'], dtype='object')"
            ]
          },
          "execution_count": 4,
          "metadata": {},
          "output_type": "execute_result"
        }
      ],
      "source": [
        "data.columns"
      ]
    },
    {
      "cell_type": "code",
      "execution_count": null,
      "id": "21dbb981-6cdb-4d8b-8176-4bb7e088ce21",
      "metadata": {
        "id": "21dbb981-6cdb-4d8b-8176-4bb7e088ce21",
        "outputId": "2a635801-c35a-4498-950a-b492ba3ec1a7"
      },
      "outputs": [
        {
          "data": {
            "text/plain": [
              "(14, 3)"
            ]
          },
          "execution_count": 9,
          "metadata": {},
          "output_type": "execute_result"
        }
      ],
      "source": [
        "data.shape"
      ]
    },
    {
      "cell_type": "code",
      "execution_count": null,
      "id": "f1409a78-b6b1-4993-a19a-a73a7405f68d",
      "metadata": {
        "id": "f1409a78-b6b1-4993-a19a-a73a7405f68d"
      },
      "outputs": [],
      "source": [
        "import openai\n",
        "import pandas as pd"
      ]
    },
    {
      "cell_type": "code",
      "execution_count": null,
      "id": "1ee92a4a-42f3-4cbd-b1e1-43772674c5dd",
      "metadata": {
        "id": "1ee92a4a-42f3-4cbd-b1e1-43772674c5dd"
      },
      "outputs": [],
      "source": [
        "openai.api_key = 'sk-...'"
      ]
    },
    {
      "cell_type": "code",
      "execution_count": null,
      "id": "7605afcb-ce0e-44a2-ad55-40cb3d97fa7c",
      "metadata": {
        "id": "7605afcb-ce0e-44a2-ad55-40cb3d97fa7c"
      },
      "outputs": [],
      "source": [
        "casos = []"
      ]
    },
    {
      "cell_type": "code",
      "execution_count": null,
      "id": "ae46a725-6cc2-4690-9d8f-7fa904231014",
      "metadata": {
        "jupyter": {
          "outputs_hidden": true
        },
        "tags": [],
        "id": "ae46a725-6cc2-4690-9d8f-7fa904231014"
      },
      "outputs": [],
      "source": [
        "for par, row in data.iterrows():\n",
        "    print(par, end=' ')\n",
        "\n",
        "    texto_x = row.texto_evaluacion\n",
        "    texto_y = texto_x[6000:]\n",
        "\n",
        "    prompt_x = f\"\"\"\n",
        "\n",
        "    Primero es necesario resumir el texto {texto_y} a un máximo de 500 palabras\n",
        "\n",
        "    Luego, tomando el texto del resumen, es necesario identificar los siguientes puntos:\n",
        "\n",
        "    Primera parte: Menciones que hace sobre oportunidades de aplicación de la ciencia de datos que se vinculan con su profesión\n",
        "    Segunda parte: Qué frases demuestran que el autor comprende las aplicaciones de la ciencia de datos desde ejemplos de su propia experiencia\n",
        "    Tercera parte: Qué formas propone el autor para organizar los lenguajes de su profesión para que aprovechen las oportunidades de aplicar ciencia de datos en su experiencia\n",
        "    Cuarta parte: Cómo propone el autor afrontar la gran diversidad de herramientas de ciencia de datos e inteligencia artificial en el mercado\n",
        "\n",
        "    \"\"\"\n",
        "    response = openai.Completion.create(\n",
        "      model=\"text-davinci-003\",\n",
        "      prompt=prompt_x,\n",
        "      temperature=0.35,\n",
        "      max_tokens=1000,\n",
        "      top_p=1,\n",
        "      frequency_penalty=0.25,\n",
        "      presence_penalty=0\n",
        "    )\n",
        "    casos.append([row.estudiante, response.choices[0].text])"
      ]
    },
    {
      "cell_type": "code",
      "execution_count": null,
      "id": "baacad1c-5983-404b-b7ca-1de51c8a111f",
      "metadata": {
        "tags": [],
        "id": "baacad1c-5983-404b-b7ca-1de51c8a111f",
        "outputId": "d30f8ae8-9875-4893-cc18-07773ed5596f"
      },
      "outputs": [
        {
          "data": {
            "text/plain": [
              "32"
            ]
          },
          "execution_count": 21,
          "metadata": {},
          "output_type": "execute_result"
        }
      ],
      "source": [
        "len(casos)"
      ]
    },
    {
      "cell_type": "code",
      "execution_count": null,
      "id": "fd0fe3fe-c301-474f-b1a8-260923af5694",
      "metadata": {
        "id": "fd0fe3fe-c301-474f-b1a8-260923af5694"
      },
      "outputs": [],
      "source": [
        "casos_df = pd.DataFrame(casos)\n",
        "casos_df.to_excel(ruta + 'CUF resultados.xlsx')"
      ]
    },
    {
      "cell_type": "code",
      "execution_count": null,
      "id": "1e354613-2889-4fab-8b2f-caa791033677",
      "metadata": {
        "id": "1e354613-2889-4fab-8b2f-caa791033677"
      },
      "outputs": [],
      "source": []
    }
  ],
  "metadata": {
    "kernelspec": {
      "display_name": "Python 3 (ipykernel)",
      "language": "python",
      "name": "python3"
    },
    "language_info": {
      "codemirror_mode": {
        "name": "ipython",
        "version": 3
      },
      "file_extension": ".py",
      "mimetype": "text/x-python",
      "name": "python",
      "nbconvert_exporter": "python",
      "pygments_lexer": "ipython3",
      "version": "3.10.9"
    },
    "colab": {
      "provenance": [],
      "include_colab_link": true
    }
  },
  "nbformat": 4,
  "nbformat_minor": 5
}

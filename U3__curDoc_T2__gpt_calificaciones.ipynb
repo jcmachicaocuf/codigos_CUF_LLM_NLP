{
  "nbformat": 4,
  "nbformat_minor": 0,
  "metadata": {
    "colab": {
      "provenance": [],
      "include_colab_link": true
    },
    "kernelspec": {
      "name": "python3",
      "display_name": "Python 3"
    },
    "language_info": {
      "name": "python"
    }
  },
  "cells": [
    {
      "cell_type": "markdown",
      "metadata": {
        "id": "view-in-github",
        "colab_type": "text"
      },
      "source": [
        "<a href=\"https://colab.research.google.com/github/jcmachicaocuf/codigos_CUF_LLM_NLP/blob/main/curDoc_T2__gpt_calificaciones.ipynb\" target=\"_parent\"><img src=\"https://colab.research.google.com/assets/colab-badge.svg\" alt=\"Open In Colab\"/></a>"
      ]
    },
    {
      "cell_type": "code",
      "source": [
        "!pip install openai"
      ],
      "metadata": {
        "id": "HAFW8Kw-1JcC"
      },
      "execution_count": null,
      "outputs": []
    },
    {
      "cell_type": "code",
      "execution_count": null,
      "metadata": {
        "id": "7VYci0D2wMui"
      },
      "outputs": [],
      "source": [
        "import json\n",
        "import requests\n",
        "import openai"
      ]
    },
    {
      "cell_type": "code",
      "source": [
        "json_file_path = 'drive/My Drive/00 2024_all/2024 Códigos/aportes-cambio-climatico-json.json'"
      ],
      "metadata": {
        "id": "BwSBZy0CwihN"
      },
      "execution_count": null,
      "outputs": []
    },
    {
      "cell_type": "code",
      "source": [
        "json_file = open(json_file_path, 'r')\n",
        "json_data = json.load(json_file)"
      ],
      "metadata": {
        "id": "hBqTTO_Hw1eX"
      },
      "execution_count": null,
      "outputs": []
    },
    {
      "cell_type": "code",
      "source": [
        "for j in json_data:\n",
        "  print(j['aporte_texto'])"
      ],
      "metadata": {
        "colab": {
          "base_uri": "https://localhost:8080/"
        },
        "id": "o3TfdKyAw5q1",
        "outputId": "fc30fcbb-729e-497d-f809-988c167db06d"
      },
      "execution_count": null,
      "outputs": [
        {
          "output_type": "stream",
          "name": "stdout",
          "text": [
            "El cambio climático amenaza la economía brasileña, especialmente su sector agrícola. La deforestación de la Amazonía exacerba el calentamiento global, alterando los patrones de lluvia vitales para la producción de soya y café. La mitigación a través de prácticas agrícolas sostenibles y la reforestación es crucial. Además, el aumento del nivel del mar pone en riesgo ciudades costeras como Río de Janeiro, afectando el turismo y la infraestructura. La transición a energías renovables, aprovechando el potencial hidroeléctrico y solar del país, podría mitigar estos impactos y crear nuevas oportunidades económicas.\n",
            "México enfrenta desafíos económicos debido al cambio climático. El aumento de temperaturas afecta la producción agrícola, especialmente en regiones áridas del norte. La industria turística, vital para la economía, se ve amenazada por el blanqueamiento de corales en destinos como Cancún. Sin embargo, el análisis carece de una conexión clara entre estos factores y las políticas de mitigación específicas de México, como su compromiso con el Acuerdo de París.\n",
            "El cambio climático podría afectar la producción de carne en Argentina, un pilar de su economía. Los cambios en las precipitaciones podrían reducir los pastizales disponibles para el ganado. Esto podría llevar a una disminución en las exportaciones de carne. El análisis menciona factores relevantes para Argentina, pero no profundiza en conceptos críticos del cambio climático ni establece vínculos analíticos claros.\n",
            "Chile enfrenta múltiples desafíos económicos debido al cambio climático. La industria vitivinícola, crucial para las exportaciones, se ve amenazada por el aumento de temperaturas y la sequía. La desertificación en el norte afecta la minería del cobre, otro pilar económico. Sin embargo, Chile lidera en energías renovables, con grandes inversiones en solar y eólica, mitigando emisiones y creando empleos verdes. La adaptación en agricultura y la gestión del agua son prioritarias para mantener la productividad frente al calentamiento global.\n",
            "El derretimiento de los glaciares andinos debido al calentamiento global amenaza el suministro de agua de Perú, afectando la agricultura y la generación hidroeléctrica. La pesca, un sector económico importante, se ve perjudicada por el cambio en las corrientes marinas y la acidificación de los océanos. El análisis menciona conceptos relevantes del cambio climático y factores específicos de Perú, pero no profundiza en las estrategias de mitigación o adaptación del país.\n",
            "El cambio climático podría afectar la producción de café en Colombia, un producto de exportación importante. Los cambios en los patrones de lluvia y temperatura podrían reducir las áreas aptas para el cultivo. Esto tendría un impacto en los ingresos de los agricultores y en la economía en general. El análisis menciona un factor relevante para Colombia, pero no profundiza en conceptos del cambio climático ni establece vínculos analíticos claros.\n",
            "Ecuador enfrenta retos significativos debido al cambio climático. Las Islas Galápagos, crucial para el turismo, están amenazadas por el aumento del nivel del mar y el calentamiento de los océanos, afectando su única biodiversidad. La producción de cacao, un cultivo de exportación clave, se ve afectada por el aumento de temperaturas y cambios en los patrones de lluvia. Ecuador ha implementado estrategias de mitigación, como la iniciativa Yasuní-ITT para preservar la selva amazónica, demostrando un enfoque innovador en la lucha contra el cambio climático y la protección de su economía.\n",
            "La economía de Venezuela, dependiente del petróleo, podría verse afectada por las políticas globales de reducción de emisiones de carbono. Esto podría llevar a una disminución en la demanda de petróleo y, por lo tanto, en los ingresos del país. El análisis menciona un factor relevante para Venezuela, pero no profundiza en conceptos del cambio climático ni establece vínculos analíticos claros con la situación específica del país.\n",
            "Costa Rica, líder en ecoturismo, enfrenta desafíos económicos debido al cambio climático. El aumento de temperaturas y eventos climáticos extremos amenazan su biodiversidad, base de su atractivo turístico. Sin embargo, el país ha aprovechado esta crisis como oportunidad, implementando estrategias de mitigación como su ambicioso plan de descarbonización. La transición a energías renovables y la promoción de prácticas agrícolas sostenibles no solo reducen emisiones, sino que también crean nuevos sectores económicos verdes, posicionando a Costa Rica como un modelo de desarrollo sostenible.\n",
            "Uruguay, con una economía basada en la agricultura y la ganadería, enfrenta riesgos debido al cambio climático. El aumento de temperaturas y la variabilidad en las precipitaciones afectan la productividad de cultivos como la soja y los pastos para el ganado. El país ha invertido significativamente en energías renovables, principalmente eólica, como estrategia de mitigación. El análisis menciona factores relevantes y conceptos de cambio climático, pero carece de una conexión más profunda entre estos elementos.\n"
          ]
        }
      ]
    },
    {
      "cell_type": "code",
      "source": [
        "criterios = {\n",
        "    'Crieterio_1':  'Utiliza factores del país elegido.',\n",
        "    'Crieterio_2':  'Utiliza conceptos acertados de cambio climático.',\n",
        "    'Crieterio_3':  'Vincula con consistencia conceptual los factores del país elegido con los conceptos de cambio climático.',\n",
        "    'Crieterio_4':  'Redacta con originalidad, sin repetir conceptos universales muy literalmente sino con originalidad.',\n",
        "}"
      ],
      "metadata": {
        "id": "7j6zmSd1xcBx"
      },
      "execution_count": null,
      "outputs": []
    },
    {
      "cell_type": "code",
      "source": [
        "criterios_string = json.dumps(criterios)\n",
        "criterios_string"
      ],
      "metadata": {
        "colab": {
          "base_uri": "https://localhost:8080/",
          "height": 53
        },
        "id": "yVJ-T3R625al",
        "outputId": "cc9b17de-bae7-4c56-c604-ca7b210b073b"
      },
      "execution_count": null,
      "outputs": [
        {
          "output_type": "execute_result",
          "data": {
            "text/plain": [
              "'{\"Crieterio_1\": \"Utiliza factores del pa\\\\u00eds elegido.\", \"Crieterio_2\": \"Utiliza conceptos acertados de cambio clim\\\\u00e1tico.\", \"Crieterio_3\": \"Vincula con consistencia conceptual los factores del pa\\\\u00eds elegido con los conceptos de cambio clim\\\\u00e1tico.\", \"Crieterio_4\": \"Redacta con originalidad, sin repetir conceptos universales muy literalmente sino con originalidad.\"}'"
            ],
            "application/vnd.google.colaboratory.intrinsic+json": {
              "type": "string"
            }
          },
          "metadata": {},
          "execution_count": 7
        }
      ]
    },
    {
      "cell_type": "code",
      "source": [
        "from google.colab import userdata\n",
        "apik = userdata.get('OAIK_JCMV')"
      ],
      "metadata": {
        "id": "maZVFdXJ02KZ"
      },
      "execution_count": null,
      "outputs": []
    },
    {
      "cell_type": "code",
      "source": [
        "from openai import OpenAI\n",
        "client = OpenAI(api_key=apik)"
      ],
      "metadata": {
        "id": "1M2f2txH0xLq"
      },
      "execution_count": null,
      "outputs": []
    },
    {
      "cell_type": "code",
      "source": [
        "texto_aporte = json_data[0]['aporte_texto']"
      ],
      "metadata": {
        "id": "N6FHv-m343g4"
      },
      "execution_count": null,
      "outputs": []
    },
    {
      "cell_type": "code",
      "source": [
        "def genera_mensaje_usuario(criterios_string, texto_aporte):\n",
        "  mensaje_usuario = f\"\"\"\n",
        "  Utiliza los siguientes criterios para evaluar textos:\\\n",
        "\n",
        "  {criterios_string}\\\n",
        "\n",
        "  Por favor, evalúa el siguiente texto utilizando estos criterios. Para cada criterio, proporciona una calificación de 1 a 5, donde 1 es la puntuación más baja y 5 la más alta. Justifica brevemente cada calificación.\\\n",
        "\n",
        "  Texto a evaluar:\\\n",
        "  {texto_aporte}\\\n",
        "\n",
        "  Formato de respuesta en JSON:\\\n",
        "\n",
        "    criterio1: 'puntuación', justificación: 'justificación',\n",
        "    criterio2: 'puntuación', justificación: 'justificación'\n",
        "  \"\"\"\n",
        "  return mensaje_usuario"
      ],
      "metadata": {
        "id": "cmIbHxyV1vZB"
      },
      "execution_count": null,
      "outputs": []
    },
    {
      "cell_type": "code",
      "source": [
        "def genera_respuesta_sistema(mensaje_sistema, mensaje_usuario):\n",
        "\n",
        "  response = client.chat.completions.create(\n",
        "    model=\"gpt-4o\",\n",
        "    messages = [\n",
        "      {\"role\": \"system\", \"content\": mensaje_sistema},\n",
        "      {\"role\": \"user\", \"content\": mensaje_usuario}\n",
        "    ],\n",
        "    temperature=0.7,\n",
        "    max_tokens=300,\n",
        "    top_p=1,\n",
        "    frequency_penalty=0,\n",
        "    presence_penalty=0\n",
        "  )\n",
        "  respuesta = response.choices[0].message.content\n",
        "  return respuesta"
      ],
      "metadata": {
        "id": "i9yZBUJWPYPt"
      },
      "execution_count": null,
      "outputs": []
    },
    {
      "cell_type": "code",
      "source": [
        "mensaje_sistema = \"\"\"\n",
        "Eres un evaluador de textos sobre cambio climático en países latinoamericanos.\n",
        "\"\"\""
      ],
      "metadata": {
        "id": "fP_VoNf635Os"
      },
      "execution_count": null,
      "outputs": []
    },
    {
      "cell_type": "code",
      "source": [
        "respuestas_json = []\n",
        "for j in json_data:\n",
        "  print(j['aporte_texto'])\n",
        "  mensaje_usuario = genera_mensaje_usuario(criterios_string, j['aporte_texto'])\n",
        "  respuesta = genera_respuesta_sistema(mensaje_sistema, mensaje_usuario)\n",
        "  respuestas_json.append(respuesta)"
      ],
      "metadata": {
        "id": "rr7nGyDW0Lnt",
        "colab": {
          "base_uri": "https://localhost:8080/"
        },
        "outputId": "30c87dc0-b594-48cc-e9c8-1a44983fc6d0"
      },
      "execution_count": null,
      "outputs": [
        {
          "output_type": "stream",
          "name": "stdout",
          "text": [
            "El cambio climático amenaza la economía brasileña, especialmente su sector agrícola. La deforestación de la Amazonía exacerba el calentamiento global, alterando los patrones de lluvia vitales para la producción de soya y café. La mitigación a través de prácticas agrícolas sostenibles y la reforestación es crucial. Además, el aumento del nivel del mar pone en riesgo ciudades costeras como Río de Janeiro, afectando el turismo y la infraestructura. La transición a energías renovables, aprovechando el potencial hidroeléctrico y solar del país, podría mitigar estos impactos y crear nuevas oportunidades económicas.\n",
            "México enfrenta desafíos económicos debido al cambio climático. El aumento de temperaturas afecta la producción agrícola, especialmente en regiones áridas del norte. La industria turística, vital para la economía, se ve amenazada por el blanqueamiento de corales en destinos como Cancún. Sin embargo, el análisis carece de una conexión clara entre estos factores y las políticas de mitigación específicas de México, como su compromiso con el Acuerdo de París.\n",
            "El cambio climático podría afectar la producción de carne en Argentina, un pilar de su economía. Los cambios en las precipitaciones podrían reducir los pastizales disponibles para el ganado. Esto podría llevar a una disminución en las exportaciones de carne. El análisis menciona factores relevantes para Argentina, pero no profundiza en conceptos críticos del cambio climático ni establece vínculos analíticos claros.\n",
            "Chile enfrenta múltiples desafíos económicos debido al cambio climático. La industria vitivinícola, crucial para las exportaciones, se ve amenazada por el aumento de temperaturas y la sequía. La desertificación en el norte afecta la minería del cobre, otro pilar económico. Sin embargo, Chile lidera en energías renovables, con grandes inversiones en solar y eólica, mitigando emisiones y creando empleos verdes. La adaptación en agricultura y la gestión del agua son prioritarias para mantener la productividad frente al calentamiento global.\n",
            "El derretimiento de los glaciares andinos debido al calentamiento global amenaza el suministro de agua de Perú, afectando la agricultura y la generación hidroeléctrica. La pesca, un sector económico importante, se ve perjudicada por el cambio en las corrientes marinas y la acidificación de los océanos. El análisis menciona conceptos relevantes del cambio climático y factores específicos de Perú, pero no profundiza en las estrategias de mitigación o adaptación del país.\n",
            "El cambio climático podría afectar la producción de café en Colombia, un producto de exportación importante. Los cambios en los patrones de lluvia y temperatura podrían reducir las áreas aptas para el cultivo. Esto tendría un impacto en los ingresos de los agricultores y en la economía en general. El análisis menciona un factor relevante para Colombia, pero no profundiza en conceptos del cambio climático ni establece vínculos analíticos claros.\n",
            "Ecuador enfrenta retos significativos debido al cambio climático. Las Islas Galápagos, crucial para el turismo, están amenazadas por el aumento del nivel del mar y el calentamiento de los océanos, afectando su única biodiversidad. La producción de cacao, un cultivo de exportación clave, se ve afectada por el aumento de temperaturas y cambios en los patrones de lluvia. Ecuador ha implementado estrategias de mitigación, como la iniciativa Yasuní-ITT para preservar la selva amazónica, demostrando un enfoque innovador en la lucha contra el cambio climático y la protección de su economía.\n",
            "La economía de Venezuela, dependiente del petróleo, podría verse afectada por las políticas globales de reducción de emisiones de carbono. Esto podría llevar a una disminución en la demanda de petróleo y, por lo tanto, en los ingresos del país. El análisis menciona un factor relevante para Venezuela, pero no profundiza en conceptos del cambio climático ni establece vínculos analíticos claros con la situación específica del país.\n",
            "Costa Rica, líder en ecoturismo, enfrenta desafíos económicos debido al cambio climático. El aumento de temperaturas y eventos climáticos extremos amenazan su biodiversidad, base de su atractivo turístico. Sin embargo, el país ha aprovechado esta crisis como oportunidad, implementando estrategias de mitigación como su ambicioso plan de descarbonización. La transición a energías renovables y la promoción de prácticas agrícolas sostenibles no solo reducen emisiones, sino que también crean nuevos sectores económicos verdes, posicionando a Costa Rica como un modelo de desarrollo sostenible.\n",
            "Uruguay, con una economía basada en la agricultura y la ganadería, enfrenta riesgos debido al cambio climático. El aumento de temperaturas y la variabilidad en las precipitaciones afectan la productividad de cultivos como la soja y los pastos para el ganado. El país ha invertido significativamente en energías renovables, principalmente eólica, como estrategia de mitigación. El análisis menciona factores relevantes y conceptos de cambio climático, pero carece de una conexión más profunda entre estos elementos.\n"
          ]
        }
      ]
    },
    {
      "cell_type": "code",
      "source": [
        "respuestas_json"
      ],
      "metadata": {
        "colab": {
          "base_uri": "https://localhost:8080/"
        },
        "id": "F0761QhC4CSc",
        "outputId": "a707de06-ee07-4b67-b46f-7fe9d38933d9"
      },
      "execution_count": null,
      "outputs": [
        {
          "output_type": "execute_result",
          "data": {
            "text/plain": [
              "['```json\\n{\\n  \"criterio_1\": {\\n    \"puntuación\": 5,\\n    \"justificación\": \"El texto menciona factores específicos de Brasil, como la deforestación de la Amazonía, la producción de soya y café, y ciudades costeras como Río de Janeiro. También se refiere al potencial hidroeléctrico y solar del país, lo cual demuestra un buen conocimiento de los factores nacionales.\"\\n  },\\n  \"criterio_2\": {\\n    \"puntuación\": 5,\\n    \"justificación\": \"El texto utiliza conceptos acertados de cambio climático, como el calentamiento global, los patrones de lluvia, el aumento del nivel del mar, y la transición a energías renovables. Además, menciona prácticas agrícolas sostenibles y la reforestación como estrategias de mitigación.\"\\n  },\\n  \"criterio_3\": {\\n    \"puntuación\": 5,\\n    \"justificación\": \"El texto vincula de manera consistente los factores específicos de Brasil con los conceptos de cambio climático. Por ejemplo, relaciona la deforestación con el calentamiento global y la alteración de los patrones de lluvia, y conecta el aumento del nivel del mar con riesgos para ciudades costeras y sus impactos económicos.\"\\n  },\\n  \"criterio_4\": {\\n    \"puntuación\": 4,\\n    \"justificación\": \"El texto está bien redactado y demuestra originalidad al no repetir conceptos universales de manera literal',\n",
              " '```json\\n{\\n  \"criterio1\": {\\n    \"puntuación\": 4,\\n    \"justificación\": \"El texto utiliza factores específicos de México, como la producción agrícola en regiones áridas del norte y la industria turística en Cancún. Sin embargo, podría haber mencionado más detalles específicos o adicionales sobre el país para obtener la máxima puntuación.\"\\n  },\\n  \"criterio2\": {\\n    \"puntuación\": 5,\\n    \"justificación\": \"El texto utiliza conceptos acertados de cambio climático, como el aumento de temperaturas y el blanqueamiento de corales, que son fenómenos bien documentados en el contexto del cambio climático.\"\\n  },\\n  \"criterio3\": {\\n    \"puntuación\": 3,\\n    \"justificación\": \"El texto hace una conexión entre los factores específicos de México y los conceptos de cambio climático, pero carece de una vinculación clara con las políticas de mitigación específicas del país, como su compromiso con el Acuerdo de París. Esto debilita la consistencia conceptual.\"\\n  },\\n  \"criterio4\": {\\n    \"puntuación\": 4,\\n    \"justificación\": \"El texto está bien redactado y presenta ideas con originalidad, evitando la repetición literal de conceptos universales. Sin embargo, una mayor profundización en aspectos únicos de México habría mejorado la originalidad.\"\\n  }\\n}\\n```',\n",
              " '```json\\n{\\n  \"criterio1\": {\\n    \"puntuación\": 4,\\n    \"justificación\": \"El texto menciona factores relevantes para Argentina, como la producción de carne y los pastizales, que son efectivamente pilares de su economía.\"\\n  },\\n  \"criterio2\": {\\n    \"puntuación\": 3,\\n    \"justificación\": \"El texto hace referencia a conceptos acertados del cambio climático, como los cambios en las precipitaciones, pero no profundiza en otros aspectos críticos como el aumento de temperatura o eventos climáticos extremos.\"\\n  },\\n  \"criterio3\": {\\n    \"puntuación\": 3,\\n    \"justificación\": \"El texto menciona una posible disminución en las exportaciones de carne debido al cambio climático, lo cual es un vínculo relevante, pero el análisis no es lo suficientemente profundo ni analítico.\"\\n  },\\n  \"criterio4\": {\\n    \"puntuación\": 2,\\n    \"justificación\": \"El texto es bastante básico y no muestra mucha originalidad. Repite conceptos universales sin aportar una perspectiva única o innovadora.\"\\n  }\\n}\\n```',\n",
              " '```json\\n{\\n  \"criterio1\": {\\n    \"puntuación\": 5,\\n    \"justificación\": \"El texto utiliza factores específicos de Chile, como la industria vitivinícola, la minería del cobre, y las inversiones en energías renovables, lo que demuestra un conocimiento detallado del contexto del país.\"\\n  },\\n  \"criterio2\": {\\n    \"puntuación\": 5,\\n    \"justificación\": \"El texto emplea conceptos acertados de cambio climático, como el aumento de temperaturas, la sequía, la desertificación, y la mitigación de emisiones a través de energías renovables.\"\\n  },\\n  \"criterio3\": {\\n    \"puntuación\": 5,\\n    \"justificación\": \"Existe una vinculación coherente entre los factores del país y los conceptos de cambio climático. Las amenazas a la vitivinicultura y la minería del cobre se relacionan directamente con el cambio climático, y las inversiones en energías renovables se presentan como una respuesta adecuada.\"\\n  },\\n  \"criterio4\": {\\n    \"puntuación\": 4,\\n    \"justificación\": \"El texto es original en su redacción y evita repetir conceptos universales muy literalmente. Sin embargo, se podría mejorar aún más la originalidad al profundizar en ejemplos más específicos o menos comunes.\"\\n  }\\n}\\n```',\n",
              " '```json\\n{\\n  \"criterio1\": {\\n    \"puntuación\": 4,\\n    \"justificación\": \"El texto utiliza factores específicos de Perú, como el derretimiento de los glaciares andinos, el suministro de agua, la agricultura, la generación hidroeléctrica y la pesca. Sin embargo, podría incluir más detalles específicos sobre las regiones afectadas o estadísticas concretas para obtener una calificación perfecta.\"\\n  },\\n  \"criterio2\": {\\n    \"puntuación\": 5,\\n    \"justificación\": \"El texto utiliza conceptos acertados de cambio climático, como el calentamiento global, el derretimiento de glaciares, el cambio en las corrientes marinas y la acidificación de los océanos. Estos son todos conceptos relevantes y bien aplicados.\"\\n  },\\n  \"criterio3\": {\\n    \"puntuación\": 4,\\n    \"justificación\": \"El texto vincula con consistencia conceptual los factores específicos de Perú con los conceptos de cambio climático. Sin embargo, la falta de profundidad en las estrategias de mitigación o adaptación reduce un poco su efectividad y consistencia.\"\\n  },\\n  \"criterio4\": {\\n    \"puntuación\": 3,\\n    \"justificación\": \"La redacción es clara y coherente, pero utiliza conceptos universales de una manera bastante directa y sin mucha originalidad. Podría beneficiarse de un enfoque más único o un estilo más distintivo para mejorar',\n",
              " '```json\\n{\\n  \"criterio1\": 4,\\n  \"justificación\": \"El texto menciona un factor relevante para Colombia (producción de café), pero no explora otros factores específicos del país.\",\\n  \"criterio2\": 3,\\n  \"justificación\": \"Utiliza conceptos básicos de cambio climático como cambios en patrones de lluvia y temperatura, pero no profundiza en ellos.\",\\n  \"criterio3\": 2,\\n  \"justificación\": \"Aunque menciona un impacto en los ingresos y la economía, no vincula de manera profunda y analítica los factores del país con los conceptos de cambio climático.\",\\n  \"criterio4\": 3,\\n  \"justificación\": \"La redacción es clara, pero repite conceptos que son universales y no aporta una perspectiva original sobre el tema.\"\\n}\\n```',\n",
              " '```json\\n{\\n  \"criterio1\": {\\n    \"puntuación\": 5,\\n    \"justificación\": \"El texto utiliza factores específicos de Ecuador, como las Islas Galápagos y la producción de cacao, y menciona la iniciativa Yasuní-ITT, que es un proyecto concreto del país.\"\\n  },\\n  \"criterio2\": {\\n    \"puntuación\": 4,\\n    \"justificación\": \"El texto utiliza conceptos acertados de cambio climático, como el aumento del nivel del mar, el calentamiento de los océanos y los cambios en patrones de lluvia. Sin embargo, podría profundizar más en otros aspectos científicos y sociales del cambio climático.\"\\n  },\\n  \"criterio3\": {\\n    \"puntuación\": 5,\\n    \"justificación\": \"El texto vincula con consistencia conceptual los factores del país elegido con los conceptos de cambio climático, explicando claramente cómo el cambio climático afecta a la biodiversidad de las Islas Galápagos y la producción de cacao, y cómo la iniciativa Yasuní-ITT se relaciona con la mitigación del problema.\"\\n  },\\n  \"criterio4\": {\\n    \"puntuación\": 4,\\n    \"justificación\": \"El texto es original y no repite conceptos universales de manera literal. Sin embargo, podría haber sido más innovador en su redacción y en la presentación de las soluciones propuestas.\"\\n  }\\n}\\n```',\n",
              " '```json\\n{\\n  \"criterio1\": {\\n    \"puntuación\": 4,\\n    \"justificación\": \"El texto utiliza un factor relevante del país elegido, Venezuela, al mencionar su dependencia del petróleo. Sin embargo, podría haberse explorado más factores específicos de Venezuela para obtener una calificación perfecta.\"\\n  },\\n  \"criterio2\": {\\n    \"puntuación\": 3,\\n    \"justificación\": \"El texto menciona conceptos básicos de cambio climático, como las políticas de reducción de emisiones de carbono, pero no profundiza en estos conceptos ni en cómo afectan específicamente a Venezuela.\"\\n  },\\n  \"criterio3\": {\\n    \"puntuación\": 2,\\n    \"justificación\": \"El texto menciona la relación entre la economía petrolera de Venezuela y las políticas de reducción de emisiones, pero no establece vínculos analíticos claros y consistentes entre estos conceptos y la situación específica del país.\"\\n  },\\n  \"criterio4\": {\\n    \"puntuación\": 3,\\n    \"justificación\": \"El texto es original en su enfoque, pero repite conceptos universales de manera bastante literal y no ofrece una perspectiva novedosa sobre el impacto del cambio climático en Venezuela.\"\\n  }\\n}\\n```',\n",
              " '```json\\n{\\n  \"criterio1\": {\\n    \"puntuación\": 5,\\n    \"justificación\": \"El texto menciona factores específicos de Costa Rica, como su liderazgo en ecoturismo, el impacto del cambio climático en su biodiversidad y su plan de descarbonización, lo que demuestra un buen uso de factores del país elegido.\"\\n  },\\n  \"criterio2\": {\\n    \"puntuación\": 5,\\n    \"justificación\": \"El texto utiliza conceptos acertados de cambio climático, como el aumento de temperaturas, eventos climáticos extremos, estrategias de mitigación, descarbonización y energías renovables. Cada uno de estos conceptos está correctamente aplicado en el contexto de Costa Rica.\"\\n  },\\n  \"criterio3\": {\\n    \"puntuación\": 5,\\n    \"justificación\": \"El texto vincula de manera consistente los factores de Costa Rica con los conceptos de cambio climático. Por ejemplo, relaciona el impacto de las temperaturas y eventos extremos en la biodiversidad y el ecoturismo, y cómo las estrategias de mitigación y energías renovables están ayudando en la transición hacia un desarrollo sostenible.\"\\n  },\\n  \"criterio4\": {\\n    \"puntuación\": 4,\\n    \"justificación\": \"El texto está redactado con originalidad y evita repetir conceptos universales de manera literal. Sin embargo, podría beneficiarse de un mayor desarrollo en algunas ideas para resaltar aún más la particular',\n",
              " '```json\\n{\\n  \"criterio1\": {\\n    \"puntuación\": 5,\\n    \"justificación\": \"El texto menciona factores específicos de Uruguay como su economía basada en la agricultura y la ganadería, así como su inversión en energías renovables, lo cual es relevante y adecuado.\"\\n  },\\n  \"criterio2\": {\\n    \"puntuación\": 4,\\n    \"justificación\": \"El texto utiliza conceptos acertados de cambio climático como el aumento de temperaturas y la variabilidad en las precipitaciones, pero estos conceptos podrían ser desarrollados con mayor detalle.\"\\n  },\\n  \"criterio3\": {\\n    \"puntuación\": 3,\\n    \"justificación\": \"Aunque el texto menciona factores del país y conceptos de cambio climático, la conexión entre estos elementos es superficial y podría ser más profunda y explícita.\"\\n  },\\n  \"criterio4\": {\\n    \"puntuación\": 3,\\n    \"justificación\": \"La redacción es clara, pero no destaca por su originalidad. Utiliza conceptos universales sin mucha elaboración o perspectiva única.\"\\n  }\\n}\\n```']"
            ]
          },
          "metadata": {},
          "execution_count": 25
        }
      ]
    }
  ]
}

{
  "cells": [
    {
      "cell_type": "markdown",
      "metadata": {
        "id": "view-in-github",
        "colab_type": "text"
      },
      "source": [
        "<a href=\"https://colab.research.google.com/github/jcmachicaocuf/codigos_CUF_LLM_NLP/blob/main/CUF_Calificacion_A4.ipynb\" target=\"_parent\"><img src=\"https://colab.research.google.com/assets/colab-badge.svg\" alt=\"Open In Colab\"/></a>"
      ]
    },
    {
      "cell_type": "code",
      "execution_count": null,
      "id": "a1334b96-ab6a-482c-8797-2a3c5ea91ed9",
      "metadata": {
        "id": "a1334b96-ab6a-482c-8797-2a3c5ea91ed9"
      },
      "outputs": [],
      "source": [
        "import pandas as pd\n",
        "import random\n",
        "import os\n",
        "import pandas as pd\n",
        "import re"
      ]
    },
    {
      "cell_type": "code",
      "execution_count": null,
      "id": "b58e21b4-4e32-4d8a-a219-a862bd3c55d6",
      "metadata": {
        "collapsed": true,
        "jupyter": {
          "outputs_hidden": true
        },
        "tags": [],
        "id": "b58e21b4-4e32-4d8a-a219-a862bd3c55d6",
        "outputId": "11d70c57-43f4-4d2f-a79b-1584ad3a74b5"
      },
      "outputs": [
        {
          "data": {
            "text/plain": [
              "['$RECYCLE.BIN',\n",
              " '00 Biblioteca',\n",
              " '00 estable',\n",
              " '2021 backup stable',\n",
              " '2022 dyn',\n",
              " '2023 04 hot writing',\n",
              " 'ALANYA Presentation.mp4',\n",
              " 'bib cognitive psychology.txt',\n",
              " 'CapacidadDes.pdf',\n",
              " 'CASACIONES',\n",
              " 'CASACIONES2',\n",
              " 'Categorización y Rotulación Automática de Documentos.pptx',\n",
              " 'CCPM Experimentos 2023_05',\n",
              " 'Cognitive Psychology _ Udemy_files',\n",
              " 'Complexity_Principles_For_Cities_Paper.pdf',\n",
              " 'CUF A4 Textos.xlsx',\n",
              " 'download.png',\n",
              " 'DumpStack.log.tmp',\n",
              " 'dynamiccontent.properties.txt',\n",
              " 'FdmrQ7EZqmZ9QmenDlt6SR.pdf',\n",
              " 'Ingenieria 2030 Ciencia de Datos 2023.pptx',\n",
              " 'install.log',\n",
              " 'Inteligencia Artificial Accesible para Procesos de Especialidades Reales.pptx',\n",
              " 'jazz afroperuano 2023 jul 07.pdf',\n",
              " 'PUCP Energia Contenidos Propuestos.docx',\n",
              " 'reinformestcnicosydeopininmodservservir',\n",
              " 'respuestas_GPT.xlsx',\n",
              " 'Screenshot 2023-06-20 155629.jpg',\n",
              " 'Screenshot 2023-06-27 102135.jpg',\n",
              " 'Screenshot 2023-06-27 102155.jpg',\n",
              " 'Screenshot 2023-07-06 080638.jpg',\n",
              " 'Screenshot 2023-07-07 115215.jpg',\n",
              " 'System Volume Information',\n",
              " 'UC Estandares',\n",
              " 'UC MSc Data Sience 2023 ML Avanzado.docx',\n",
              " 'usaid gestion.xlsx',\n",
              " 'uso del GPT para docentes rurales (AutoRecovered).docx',\n",
              " 'WhatsApp Image 2023-05-27 at 15.25.15.jpg',\n",
              " '~$ AI exploration students UC.docx',\n",
              " '~$ chapter IGI Higher Education Jose Machicao.docx',\n",
              " '~$ trabajo profesional con algoritmos cognitivos.docx',\n",
              " '~$BancoDeCasos-Prueba-MJC.xlsx',\n",
              " '~$cumento de Concepto SMEC en Carrera Publica.docx',\n",
              " '~$El Potencial de la Inteligencia Artificial para Aplicaciones.pptx',\n",
              " '~$esta en operación de productos nuevos generados colectivamente.docx',\n",
              " '~$Estado Cognitivo.pptx',\n",
              " '~$foque datos.docx',\n",
              " '~$mbok_7.rtf',\n",
              " '~$mk Catalogo Datos.docx',\n",
              " '~$mplex systems consistencies.docx',\n",
              " '~$nferencia sobre Inteligencia Artificial para la Industria.docx',\n",
              " '~$recho al Nivel Cognitivo Superior.docx',\n",
              " '~$respuestas_GPT.xlsx',\n",
              " '~$tado Cognitivo Ponencia Dia Servidor Publico 2023_05.docx',\n",
              " '~$TREGABLES Y DISEÑO DE AULA DIPLOMA YACHAY.docx',\n",
              " '~WRL0746.tmp',\n",
              " '~WRL0945.tmp',\n",
              " '~WRL0984.tmp']"
            ]
          },
          "execution_count": 2,
          "metadata": {},
          "output_type": "execute_result"
        }
      ],
      "source": [
        "ruta = 'D://'\n",
        "os.listdir(ruta)"
      ]
    },
    {
      "cell_type": "code",
      "execution_count": null,
      "id": "f81e9ea9-3c81-4e3d-a546-dd0e7eb58679",
      "metadata": {
        "id": "f81e9ea9-3c81-4e3d-a546-dd0e7eb58679"
      },
      "outputs": [],
      "source": [
        "data = pd.read_excel(ruta+'CUF A4 Textos.xlsx')"
      ]
    },
    {
      "cell_type": "code",
      "execution_count": null,
      "id": "8ed33a87-bf07-4c2e-adea-89d144891474",
      "metadata": {
        "id": "8ed33a87-bf07-4c2e-adea-89d144891474",
        "outputId": "654d4b7c-258c-427e-b584-10550e370cd1"
      },
      "outputs": [
        {
          "data": {
            "text/plain": [
              "Index(['estudiante', 'texto_evaluacion', 'largo'], dtype='object')"
            ]
          },
          "execution_count": 4,
          "metadata": {},
          "output_type": "execute_result"
        }
      ],
      "source": [
        "data.columns"
      ]
    },
    {
      "cell_type": "code",
      "execution_count": null,
      "id": "21dbb981-6cdb-4d8b-8176-4bb7e088ce21",
      "metadata": {
        "id": "21dbb981-6cdb-4d8b-8176-4bb7e088ce21",
        "outputId": "19d4f13d-e08b-49e8-d9b2-bb184bfe0a6e"
      },
      "outputs": [
        {
          "data": {
            "text/plain": [
              "(14, 3)"
            ]
          },
          "execution_count": 9,
          "metadata": {},
          "output_type": "execute_result"
        }
      ],
      "source": [
        "data.shape"
      ]
    },
    {
      "cell_type": "code",
      "execution_count": null,
      "id": "f1409a78-b6b1-4993-a19a-a73a7405f68d",
      "metadata": {
        "id": "f1409a78-b6b1-4993-a19a-a73a7405f68d"
      },
      "outputs": [],
      "source": [
        "import openai\n",
        "import pandas as pd"
      ]
    },
    {
      "cell_type": "code",
      "execution_count": null,
      "id": "1ee92a4a-42f3-4cbd-b1e1-43772674c5dd",
      "metadata": {
        "id": "1ee92a4a-42f3-4cbd-b1e1-43772674c5dd"
      },
      "outputs": [],
      "source": [
        "openai.api_key = 'sk-...'"
      ]
    },
    {
      "cell_type": "code",
      "execution_count": null,
      "id": "7605afcb-ce0e-44a2-ad55-40cb3d97fa7c",
      "metadata": {
        "id": "7605afcb-ce0e-44a2-ad55-40cb3d97fa7c"
      },
      "outputs": [],
      "source": [
        "casos = []"
      ]
    },
    {
      "cell_type": "code",
      "execution_count": null,
      "id": "ae46a725-6cc2-4690-9d8f-7fa904231014",
      "metadata": {
        "collapsed": true,
        "jupyter": {
          "outputs_hidden": true
        },
        "tags": [],
        "id": "ae46a725-6cc2-4690-9d8f-7fa904231014",
        "outputId": "8ff1f037-3d89-4b87-b352-ffa68d599865"
      },
      "outputs": [
        {
          "name": "stdout",
          "output_type": "stream",
          "text": [
            "0 1 2 3 4 "
          ]
        },
        {
          "ename": "InvalidRequestError",
          "evalue": "This model's maximum context length is 4097 tokens, however you requested 4572 tokens (3572 in your prompt; 1000 for the completion). Please reduce your prompt; or completion length.",
          "output_type": "error",
          "traceback": [
            "\u001b[1;31m---------------------------------------------------------------------------\u001b[0m",
            "\u001b[1;31mInvalidRequestError\u001b[0m                       Traceback (most recent call last)",
            "Cell \u001b[1;32mIn[20], line 19\u001b[0m\n\u001b[0;32m      5\u001b[0m texto_y \u001b[38;5;241m=\u001b[39m texto_x[\u001b[38;5;241m6000\u001b[39m:]\n\u001b[0;32m      7\u001b[0m prompt_x \u001b[38;5;241m=\u001b[39m \u001b[38;5;124mf\u001b[39m\u001b[38;5;124m\"\"\"\u001b[39m\n\u001b[0;32m      8\u001b[0m \u001b[38;5;124m\u001b[39m\n\u001b[0;32m      9\u001b[0m \u001b[38;5;124mPrimero es necesario resumir el texto \u001b[39m\u001b[38;5;132;01m{\u001b[39;00mtexto_y\u001b[38;5;132;01m}\u001b[39;00m\u001b[38;5;124m a un máximo de 500 palabras\u001b[39m\n\u001b[1;32m   (...)\u001b[0m\n\u001b[0;32m     17\u001b[0m \u001b[38;5;124m\u001b[39m\n\u001b[0;32m     18\u001b[0m \u001b[38;5;124m\u001b[39m\u001b[38;5;124m\"\"\"\u001b[39m\n\u001b[1;32m---> 19\u001b[0m response \u001b[38;5;241m=\u001b[39m \u001b[43mopenai\u001b[49m\u001b[38;5;241;43m.\u001b[39;49m\u001b[43mCompletion\u001b[49m\u001b[38;5;241;43m.\u001b[39;49m\u001b[43mcreate\u001b[49m\u001b[43m(\u001b[49m\n\u001b[0;32m     20\u001b[0m \u001b[43m  \u001b[49m\u001b[43mmodel\u001b[49m\u001b[38;5;241;43m=\u001b[39;49m\u001b[38;5;124;43m\"\u001b[39;49m\u001b[38;5;124;43mtext-davinci-003\u001b[39;49m\u001b[38;5;124;43m\"\u001b[39;49m\u001b[43m,\u001b[49m\n\u001b[0;32m     21\u001b[0m \u001b[43m  \u001b[49m\u001b[43mprompt\u001b[49m\u001b[38;5;241;43m=\u001b[39;49m\u001b[43mprompt_x\u001b[49m\u001b[43m,\u001b[49m\n\u001b[0;32m     22\u001b[0m \u001b[43m  \u001b[49m\u001b[43mtemperature\u001b[49m\u001b[38;5;241;43m=\u001b[39;49m\u001b[38;5;241;43m0.35\u001b[39;49m\u001b[43m,\u001b[49m\n\u001b[0;32m     23\u001b[0m \u001b[43m  \u001b[49m\u001b[43mmax_tokens\u001b[49m\u001b[38;5;241;43m=\u001b[39;49m\u001b[38;5;241;43m1000\u001b[39;49m\u001b[43m,\u001b[49m\n\u001b[0;32m     24\u001b[0m \u001b[43m  \u001b[49m\u001b[43mtop_p\u001b[49m\u001b[38;5;241;43m=\u001b[39;49m\u001b[38;5;241;43m1\u001b[39;49m\u001b[43m,\u001b[49m\n\u001b[0;32m     25\u001b[0m \u001b[43m  \u001b[49m\u001b[43mfrequency_penalty\u001b[49m\u001b[38;5;241;43m=\u001b[39;49m\u001b[38;5;241;43m0.25\u001b[39;49m\u001b[43m,\u001b[49m\n\u001b[0;32m     26\u001b[0m \u001b[43m  \u001b[49m\u001b[43mpresence_penalty\u001b[49m\u001b[38;5;241;43m=\u001b[39;49m\u001b[38;5;241;43m0\u001b[39;49m\n\u001b[0;32m     27\u001b[0m \u001b[43m\u001b[49m\u001b[43m)\u001b[49m\n\u001b[0;32m     28\u001b[0m casos\u001b[38;5;241m.\u001b[39mappend([row\u001b[38;5;241m.\u001b[39mestudiante, response\u001b[38;5;241m.\u001b[39mchoices[\u001b[38;5;241m0\u001b[39m]\u001b[38;5;241m.\u001b[39mtext])\n",
            "File \u001b[1;32mC:\\Users\\Public\\anaconda3\\lib\\site-packages\\openai\\api_resources\\completion.py:25\u001b[0m, in \u001b[0;36mCompletion.create\u001b[1;34m(cls, *args, **kwargs)\u001b[0m\n\u001b[0;32m     23\u001b[0m \u001b[38;5;28;01mwhile\u001b[39;00m \u001b[38;5;28;01mTrue\u001b[39;00m:\n\u001b[0;32m     24\u001b[0m     \u001b[38;5;28;01mtry\u001b[39;00m:\n\u001b[1;32m---> 25\u001b[0m         \u001b[38;5;28;01mreturn\u001b[39;00m \u001b[38;5;28msuper\u001b[39m()\u001b[38;5;241m.\u001b[39mcreate(\u001b[38;5;241m*\u001b[39margs, \u001b[38;5;241m*\u001b[39m\u001b[38;5;241m*\u001b[39mkwargs)\n\u001b[0;32m     26\u001b[0m     \u001b[38;5;28;01mexcept\u001b[39;00m TryAgain \u001b[38;5;28;01mas\u001b[39;00m e:\n\u001b[0;32m     27\u001b[0m         \u001b[38;5;28;01mif\u001b[39;00m timeout \u001b[38;5;129;01mis\u001b[39;00m \u001b[38;5;129;01mnot\u001b[39;00m \u001b[38;5;28;01mNone\u001b[39;00m \u001b[38;5;129;01mand\u001b[39;00m time\u001b[38;5;241m.\u001b[39mtime() \u001b[38;5;241m>\u001b[39m start \u001b[38;5;241m+\u001b[39m timeout:\n",
            "File \u001b[1;32mC:\\Users\\Public\\anaconda3\\lib\\site-packages\\openai\\api_resources\\abstract\\engine_api_resource.py:153\u001b[0m, in \u001b[0;36mEngineAPIResource.create\u001b[1;34m(cls, api_key, api_base, api_type, request_id, api_version, organization, **params)\u001b[0m\n\u001b[0;32m    127\u001b[0m \u001b[38;5;129m@classmethod\u001b[39m\n\u001b[0;32m    128\u001b[0m \u001b[38;5;28;01mdef\u001b[39;00m \u001b[38;5;21mcreate\u001b[39m(\n\u001b[0;32m    129\u001b[0m     \u001b[38;5;28mcls\u001b[39m,\n\u001b[1;32m   (...)\u001b[0m\n\u001b[0;32m    136\u001b[0m     \u001b[38;5;241m*\u001b[39m\u001b[38;5;241m*\u001b[39mparams,\n\u001b[0;32m    137\u001b[0m ):\n\u001b[0;32m    138\u001b[0m     (\n\u001b[0;32m    139\u001b[0m         deployment_id,\n\u001b[0;32m    140\u001b[0m         engine,\n\u001b[1;32m   (...)\u001b[0m\n\u001b[0;32m    150\u001b[0m         api_key, api_base, api_type, api_version, organization, \u001b[38;5;241m*\u001b[39m\u001b[38;5;241m*\u001b[39mparams\n\u001b[0;32m    151\u001b[0m     )\n\u001b[1;32m--> 153\u001b[0m     response, _, api_key \u001b[38;5;241m=\u001b[39m \u001b[43mrequestor\u001b[49m\u001b[38;5;241;43m.\u001b[39;49m\u001b[43mrequest\u001b[49m\u001b[43m(\u001b[49m\n\u001b[0;32m    154\u001b[0m \u001b[43m        \u001b[49m\u001b[38;5;124;43m\"\u001b[39;49m\u001b[38;5;124;43mpost\u001b[39;49m\u001b[38;5;124;43m\"\u001b[39;49m\u001b[43m,\u001b[49m\n\u001b[0;32m    155\u001b[0m \u001b[43m        \u001b[49m\u001b[43murl\u001b[49m\u001b[43m,\u001b[49m\n\u001b[0;32m    156\u001b[0m \u001b[43m        \u001b[49m\u001b[43mparams\u001b[49m\u001b[38;5;241;43m=\u001b[39;49m\u001b[43mparams\u001b[49m\u001b[43m,\u001b[49m\n\u001b[0;32m    157\u001b[0m \u001b[43m        \u001b[49m\u001b[43mheaders\u001b[49m\u001b[38;5;241;43m=\u001b[39;49m\u001b[43mheaders\u001b[49m\u001b[43m,\u001b[49m\n\u001b[0;32m    158\u001b[0m \u001b[43m        \u001b[49m\u001b[43mstream\u001b[49m\u001b[38;5;241;43m=\u001b[39;49m\u001b[43mstream\u001b[49m\u001b[43m,\u001b[49m\n\u001b[0;32m    159\u001b[0m \u001b[43m        \u001b[49m\u001b[43mrequest_id\u001b[49m\u001b[38;5;241;43m=\u001b[39;49m\u001b[43mrequest_id\u001b[49m\u001b[43m,\u001b[49m\n\u001b[0;32m    160\u001b[0m \u001b[43m        \u001b[49m\u001b[43mrequest_timeout\u001b[49m\u001b[38;5;241;43m=\u001b[39;49m\u001b[43mrequest_timeout\u001b[49m\u001b[43m,\u001b[49m\n\u001b[0;32m    161\u001b[0m \u001b[43m    \u001b[49m\u001b[43m)\u001b[49m\n\u001b[0;32m    163\u001b[0m     \u001b[38;5;28;01mif\u001b[39;00m stream:\n\u001b[0;32m    164\u001b[0m         \u001b[38;5;66;03m# must be an iterator\u001b[39;00m\n\u001b[0;32m    165\u001b[0m         \u001b[38;5;28;01massert\u001b[39;00m \u001b[38;5;129;01mnot\u001b[39;00m \u001b[38;5;28misinstance\u001b[39m(response, OpenAIResponse)\n",
            "File \u001b[1;32mC:\\Users\\Public\\anaconda3\\lib\\site-packages\\openai\\api_requestor.py:230\u001b[0m, in \u001b[0;36mAPIRequestor.request\u001b[1;34m(self, method, url, params, headers, files, stream, request_id, request_timeout)\u001b[0m\n\u001b[0;32m    209\u001b[0m \u001b[38;5;28;01mdef\u001b[39;00m \u001b[38;5;21mrequest\u001b[39m(\n\u001b[0;32m    210\u001b[0m     \u001b[38;5;28mself\u001b[39m,\n\u001b[0;32m    211\u001b[0m     method,\n\u001b[1;32m   (...)\u001b[0m\n\u001b[0;32m    218\u001b[0m     request_timeout: Optional[Union[\u001b[38;5;28mfloat\u001b[39m, Tuple[\u001b[38;5;28mfloat\u001b[39m, \u001b[38;5;28mfloat\u001b[39m]]] \u001b[38;5;241m=\u001b[39m \u001b[38;5;28;01mNone\u001b[39;00m,\n\u001b[0;32m    219\u001b[0m ) \u001b[38;5;241m-\u001b[39m\u001b[38;5;241m>\u001b[39m Tuple[Union[OpenAIResponse, Iterator[OpenAIResponse]], \u001b[38;5;28mbool\u001b[39m, \u001b[38;5;28mstr\u001b[39m]:\n\u001b[0;32m    220\u001b[0m     result \u001b[38;5;241m=\u001b[39m \u001b[38;5;28mself\u001b[39m\u001b[38;5;241m.\u001b[39mrequest_raw(\n\u001b[0;32m    221\u001b[0m         method\u001b[38;5;241m.\u001b[39mlower(),\n\u001b[0;32m    222\u001b[0m         url,\n\u001b[1;32m   (...)\u001b[0m\n\u001b[0;32m    228\u001b[0m         request_timeout\u001b[38;5;241m=\u001b[39mrequest_timeout,\n\u001b[0;32m    229\u001b[0m     )\n\u001b[1;32m--> 230\u001b[0m     resp, got_stream \u001b[38;5;241m=\u001b[39m \u001b[38;5;28;43mself\u001b[39;49m\u001b[38;5;241;43m.\u001b[39;49m\u001b[43m_interpret_response\u001b[49m\u001b[43m(\u001b[49m\u001b[43mresult\u001b[49m\u001b[43m,\u001b[49m\u001b[43m \u001b[49m\u001b[43mstream\u001b[49m\u001b[43m)\u001b[49m\n\u001b[0;32m    231\u001b[0m     \u001b[38;5;28;01mreturn\u001b[39;00m resp, got_stream, \u001b[38;5;28mself\u001b[39m\u001b[38;5;241m.\u001b[39mapi_key\n",
            "File \u001b[1;32mC:\\Users\\Public\\anaconda3\\lib\\site-packages\\openai\\api_requestor.py:624\u001b[0m, in \u001b[0;36mAPIRequestor._interpret_response\u001b[1;34m(self, result, stream)\u001b[0m\n\u001b[0;32m    616\u001b[0m     \u001b[38;5;28;01mreturn\u001b[39;00m (\n\u001b[0;32m    617\u001b[0m         \u001b[38;5;28mself\u001b[39m\u001b[38;5;241m.\u001b[39m_interpret_response_line(\n\u001b[0;32m    618\u001b[0m             line, result\u001b[38;5;241m.\u001b[39mstatus_code, result\u001b[38;5;241m.\u001b[39mheaders, stream\u001b[38;5;241m=\u001b[39m\u001b[38;5;28;01mTrue\u001b[39;00m\n\u001b[0;32m    619\u001b[0m         )\n\u001b[0;32m    620\u001b[0m         \u001b[38;5;28;01mfor\u001b[39;00m line \u001b[38;5;129;01min\u001b[39;00m parse_stream(result\u001b[38;5;241m.\u001b[39miter_lines())\n\u001b[0;32m    621\u001b[0m     ), \u001b[38;5;28;01mTrue\u001b[39;00m\n\u001b[0;32m    622\u001b[0m \u001b[38;5;28;01melse\u001b[39;00m:\n\u001b[0;32m    623\u001b[0m     \u001b[38;5;28;01mreturn\u001b[39;00m (\n\u001b[1;32m--> 624\u001b[0m         \u001b[38;5;28;43mself\u001b[39;49m\u001b[38;5;241;43m.\u001b[39;49m\u001b[43m_interpret_response_line\u001b[49m\u001b[43m(\u001b[49m\n\u001b[0;32m    625\u001b[0m \u001b[43m            \u001b[49m\u001b[43mresult\u001b[49m\u001b[38;5;241;43m.\u001b[39;49m\u001b[43mcontent\u001b[49m\u001b[38;5;241;43m.\u001b[39;49m\u001b[43mdecode\u001b[49m\u001b[43m(\u001b[49m\u001b[38;5;124;43m\"\u001b[39;49m\u001b[38;5;124;43mutf-8\u001b[39;49m\u001b[38;5;124;43m\"\u001b[39;49m\u001b[43m)\u001b[49m\u001b[43m,\u001b[49m\n\u001b[0;32m    626\u001b[0m \u001b[43m            \u001b[49m\u001b[43mresult\u001b[49m\u001b[38;5;241;43m.\u001b[39;49m\u001b[43mstatus_code\u001b[49m\u001b[43m,\u001b[49m\n\u001b[0;32m    627\u001b[0m \u001b[43m            \u001b[49m\u001b[43mresult\u001b[49m\u001b[38;5;241;43m.\u001b[39;49m\u001b[43mheaders\u001b[49m\u001b[43m,\u001b[49m\n\u001b[0;32m    628\u001b[0m \u001b[43m            \u001b[49m\u001b[43mstream\u001b[49m\u001b[38;5;241;43m=\u001b[39;49m\u001b[38;5;28;43;01mFalse\u001b[39;49;00m\u001b[43m,\u001b[49m\n\u001b[0;32m    629\u001b[0m \u001b[43m        \u001b[49m\u001b[43m)\u001b[49m,\n\u001b[0;32m    630\u001b[0m         \u001b[38;5;28;01mFalse\u001b[39;00m,\n\u001b[0;32m    631\u001b[0m     )\n",
            "File \u001b[1;32mC:\\Users\\Public\\anaconda3\\lib\\site-packages\\openai\\api_requestor.py:687\u001b[0m, in \u001b[0;36mAPIRequestor._interpret_response_line\u001b[1;34m(self, rbody, rcode, rheaders, stream)\u001b[0m\n\u001b[0;32m    685\u001b[0m stream_error \u001b[38;5;241m=\u001b[39m stream \u001b[38;5;129;01mand\u001b[39;00m \u001b[38;5;124m\"\u001b[39m\u001b[38;5;124merror\u001b[39m\u001b[38;5;124m\"\u001b[39m \u001b[38;5;129;01min\u001b[39;00m resp\u001b[38;5;241m.\u001b[39mdata\n\u001b[0;32m    686\u001b[0m \u001b[38;5;28;01mif\u001b[39;00m stream_error \u001b[38;5;129;01mor\u001b[39;00m \u001b[38;5;129;01mnot\u001b[39;00m \u001b[38;5;241m200\u001b[39m \u001b[38;5;241m<\u001b[39m\u001b[38;5;241m=\u001b[39m rcode \u001b[38;5;241m<\u001b[39m \u001b[38;5;241m300\u001b[39m:\n\u001b[1;32m--> 687\u001b[0m     \u001b[38;5;28;01mraise\u001b[39;00m \u001b[38;5;28mself\u001b[39m\u001b[38;5;241m.\u001b[39mhandle_error_response(\n\u001b[0;32m    688\u001b[0m         rbody, rcode, resp\u001b[38;5;241m.\u001b[39mdata, rheaders, stream_error\u001b[38;5;241m=\u001b[39mstream_error\n\u001b[0;32m    689\u001b[0m     )\n\u001b[0;32m    690\u001b[0m \u001b[38;5;28;01mreturn\u001b[39;00m resp\n",
            "\u001b[1;31mInvalidRequestError\u001b[0m: This model's maximum context length is 4097 tokens, however you requested 4572 tokens (3572 in your prompt; 1000 for the completion). Please reduce your prompt; or completion length."
          ]
        }
      ],
      "source": [
        "for par, row in data.iterrows():\n",
        "    print(par, end=' ')\n",
        "\n",
        "    texto_x = row.texto_evaluacion\n",
        "    texto_y = texto_x[6000:]\n",
        "\n",
        "    prompt_x = f\"\"\"\n",
        "\n",
        "    Primero es necesario resumir el texto {texto_y} a un máximo de 500 palabras\n",
        "\n",
        "    Luego, tomando el texto del resumen, es necesario identificar los siguientes puntos:\n",
        "\n",
        "    Primera parte: Menciones que hace sobre oportunidades de aplicación de la ciencia de datos que se vinculan con su profesión\n",
        "    Segunda parte: Qué frases demuestran que el autor comprende las aplicaciones de la ciencia de datos desde ejemplos de su propia experiencia\n",
        "    Tercera parte: Qué formas propone el autor para organizar los lenguajes de su profesión para que aprovechen las oportunidades de aplicar ciencia de datos en su experiencia\n",
        "    Cuarta parte: Cómo propone el autor afrontar la gran diversidad de herramientas de ciencia de datos e inteligencia artificial en el mercado\n",
        "\n",
        "    \"\"\"\n",
        "    response = openai.Completion.create(\n",
        "      model=\"text-davinci-003\",\n",
        "      prompt=prompt_x,\n",
        "      temperature=0.35,\n",
        "      max_tokens=1000,\n",
        "      top_p=1,\n",
        "      frequency_penalty=0.25,\n",
        "      presence_penalty=0\n",
        "    )\n",
        "    casos.append([row.estudiante, response.choices[0].text])"
      ]
    },
    {
      "cell_type": "code",
      "execution_count": null,
      "id": "baacad1c-5983-404b-b7ca-1de51c8a111f",
      "metadata": {
        "tags": [],
        "id": "baacad1c-5983-404b-b7ca-1de51c8a111f",
        "outputId": "b3145861-23d2-4a48-95b7-de89f5c1e0c4"
      },
      "outputs": [
        {
          "data": {
            "text/plain": [
              "32"
            ]
          },
          "execution_count": 21,
          "metadata": {},
          "output_type": "execute_result"
        }
      ],
      "source": [
        "len(casos)"
      ]
    },
    {
      "cell_type": "code",
      "execution_count": null,
      "id": "fd0fe3fe-c301-474f-b1a8-260923af5694",
      "metadata": {
        "id": "fd0fe3fe-c301-474f-b1a8-260923af5694"
      },
      "outputs": [],
      "source": [
        "casos_df = pd.DataFrame(casos)\n",
        "casos_df.to_excel(ruta + 'CUF resultados.xlsx')"
      ]
    },
    {
      "cell_type": "code",
      "execution_count": null,
      "id": "1e354613-2889-4fab-8b2f-caa791033677",
      "metadata": {
        "id": "1e354613-2889-4fab-8b2f-caa791033677"
      },
      "outputs": [],
      "source": []
    }
  ],
  "metadata": {
    "kernelspec": {
      "display_name": "Python 3 (ipykernel)",
      "language": "python",
      "name": "python3"
    },
    "language_info": {
      "codemirror_mode": {
        "name": "ipython",
        "version": 3
      },
      "file_extension": ".py",
      "mimetype": "text/x-python",
      "name": "python",
      "nbconvert_exporter": "python",
      "pygments_lexer": "ipython3",
      "version": "3.10.9"
    },
    "colab": {
      "provenance": [],
      "include_colab_link": true
    }
  },
  "nbformat": 4,
  "nbformat_minor": 5
}
{
  "nbformat": 4,
  "nbformat_minor": 0,
  "metadata": {
    "colab": {
      "provenance": [],
      "authorship_tag": "ABX9TyOcf0clC4gk4awEjVwuUzJx",
      "include_colab_link": true
    },
    "kernelspec": {
      "name": "python3",
      "display_name": "Python 3"
    },
    "language_info": {
      "name": "python"
    }
  },
  "cells": [
    {
      "cell_type": "markdown",
      "metadata": {
        "id": "view-in-github",
        "colab_type": "text"
      },
      "source": [
        "<a href=\"https://colab.research.google.com/github/jcmachicaocuf/codigos_CUF_LLM_NLP/blob/main/U2__mapas_conceptuales_cognicion.ipynb\" target=\"_parent\"><img src=\"https://colab.research.google.com/assets/colab-badge.svg\" alt=\"Open In Colab\"/></a>"
      ]
    },
    {
      "cell_type": "markdown",
      "source": [
        "## Cognición Humana\n",
        "https://kumu.io/jcmachicao/human-cognition-map\n",
        "\n",
        "El diagrama Kumu \"Cognición Humana\" busca representar las diferentes funciones cognitivas como la atención, la memoria, el lenguaje y la percepción, y cómo interactúan entre sí para dar forma a nuestra experiencia del mundo. Además, explora cómo estas funciones se relacionan con otros aspectos como la emoción, la motivación y la conciencia. El objetivo principal es ofrecer una visualización global e interconectada de los procesos mentales que subyacen a la cognición humana. Puedes explorar el diagrama para obtener una comprensión más profunda de las relaciones entre estos componentes esenciales."
      ],
      "metadata": {
        "id": "_lOEfIZPry7A"
      }
    },
    {
      "cell_type": "markdown",
      "source": [
        "## Conceptos de Lenguaje\n",
        "https://kumu.io/jcmachicao/language-concepts\n",
        "\n",
        "El diagrama Kumu \"Conceptos de Lenguaje\" busca representar las diferentes areas que componen el lenguaje humano como la semántica, la sintaxis, la pragmática y la fonética, y cómo interactúan entre sí para la construcción y la interpretación de mensajes. Además, explora cómo estas areas se relacionan con otros aspectos como la comunicación, la cognición y la cultura. El objetivo principal es ofrecer una visualización global e interconectada de los procesos lingüísticos que subyacen al lenguaje humano. Puedes explorar el diagrama para obtener una comprensión más profunda de las relaciones entre estos componentes esenciales."
      ],
      "metadata": {
        "id": "iIQXvbrtry1S"
      }
    },
    {
      "cell_type": "markdown",
      "source": [
        "## Arquitecturas Deep Learning y Funciones Cognitivas\n",
        "https://kumu.io/jcmachicao/arquitecturas-deeplearning\n",
        "\n",
        "El diagrama Kumu \"Arquitecturas Deep Learning y Funciones Cognitivas\" busca representar las diferentes arquitecturas de Deep Learning como las redes neuronales convolucionales, las redes neuronales recurrentes y las redes neuronales generativas antagónicas, y cómo se relacionan con las funciones cognitivas como la atención, la memoria, el lenguaje y la percepción. El objetivo principal es ofrecer una visualización global e interconectada de cómo las arquitecturas de Deep Learning pueden simular y comprender las funciones cognitivas del cerebro humano. Puedes explorar el diagrama para obtener una comprensión más profunda de las relaciones entre estos componentes esenciales."
      ],
      "metadata": {
        "id": "TzsewC4RrytO"
      }
    }
  ]
}
{
  "nbformat": 4,
  "nbformat_minor": 0,
  "metadata": {
    "colab": {
      "provenance": [],
      "authorship_tag": "ABX9TyMCiEnatpwtSZUXPibosy7J",
      "include_colab_link": true
    },
    "kernelspec": {
      "name": "python3",
      "display_name": "Python 3"
    },
    "language_info": {
      "name": "python"
    }
  },
  "cells": [
    {
      "cell_type": "markdown",
      "metadata": {
        "id": "view-in-github",
        "colab_type": "text"
      },
      "source": [
        "<a href=\"https://colab.research.google.com/github/jcmachicaocuf/codigos_CUF_LLM_NLP/blob/main/U2__ACT_R_Demo.ipynb\" target=\"_parent\"><img src=\"https://colab.research.google.com/assets/colab-badge.svg\" alt=\"Open In Colab\"/></a>"
      ]
    },
    {
      "cell_type": "markdown",
      "source": [
        "# ACT-R Demo: Una tarea aritmética simple"
      ],
      "metadata": {
        "id": "wQmlwJUDr_qb"
      }
    },
    {
      "cell_type": "code",
      "source": [
        "class MemoriaDeclarativa:\n",
        "    def __init__(self):\n",
        "        self.memory = []\n",
        "\n",
        "    def add_chunk(self, chunk):\n",
        "        self.memory.append(chunk)\n",
        "        print(f\"Declarative Memory: Added chunk {chunk}\")\n",
        "\n",
        "    def retrieve_chunk(self, condition):\n",
        "        print(f\"Declarative Memory: Searching for chunk matching {condition}\")\n",
        "        for chunk in self.memory:\n",
        "            if all(chunk.get(k) == v for k, v in condition.items()):\n",
        "                print(f\"Declarative Memory: Found chunk {chunk}\")\n",
        "                return chunk\n",
        "        print(\"Declarative Memory: No matching chunk found\")\n",
        "        return None\n",
        "\n",
        "\n",
        "class MemoriaProcedimental:\n",
        "    def __init__(self):\n",
        "        self.rules = []\n",
        "\n",
        "    def add_rule(self, condition, action):\n",
        "        self.rules.append((condition, action))\n",
        "        print(f\"Procedural Memory: Added rule with condition {condition}\")\n",
        "\n",
        "    def fire_rules(self, memory, focus):\n",
        "        print(f\"Procedural Memory: Checking rules for focus '{focus}'\")\n",
        "        for condition, action in self.rules:\n",
        "            if condition.get(\"focus\") == focus:  # Match focus\n",
        "                print(f\"Procedural Memory: Rule condition {condition} matches focus\")\n",
        "                chunk = memory.retrieve_chunk(condition)\n",
        "                if chunk:\n",
        "                    print(f\"Procedural Memory: Firing rule with chunk {chunk}\")\n",
        "                    action(chunk)\n",
        "                    return True  # Stop after firing one rule\n",
        "        print(f\"Procedural Memory: No rules fired for focus '{focus}'\")\n",
        "        return False\n"
      ],
      "metadata": {
        "id": "kg4zwMd4Ye6w"
      },
      "execution_count": 191,
      "outputs": []
    },
    {
      "cell_type": "code",
      "source": [
        "# Declarative memory\n",
        "memoria_declarativa = MemoriaDeclarativa()\n",
        "memoria_declarativa.add_chunk({\"type\": \"number\", \"value\": 11})\n",
        "\n",
        "# Procedural memory\n",
        "memoria_procedimental = MemoriaProcedimental()\n",
        "\n",
        "def multiply_by_two(chunk):\n",
        "    result = chunk['value'] * 2\n",
        "    print(f\"Action: Multiplying {chunk['value']} by 2 gives {result}\")\n",
        "\n",
        "# Add a rule\n",
        "memoria_procedimental.add_rule({\"type\": \"number\", \"value\": 11, \"focus\": \"arithmetic\"}, multiply_by_two)"
      ],
      "metadata": {
        "colab": {
          "base_uri": "https://localhost:8080/"
        },
        "id": "PhSOlXoZYoxi",
        "outputId": "c98be92b-5e24-406c-d8bd-b893bc38d995"
      },
      "execution_count": 192,
      "outputs": [
        {
          "output_type": "stream",
          "name": "stdout",
          "text": [
            "Declarative Memory: Added chunk {'type': 'number', 'value': 11}\n",
            "Procedural Memory: Added rule with condition {'type': 'number', 'value': 11, 'focus': 'arithmetic'}\n"
          ]
        }
      ]
    },
    {
      "cell_type": "code",
      "source": [
        "# Focus mechanism\n",
        "focus = \"arithmetic\""
      ],
      "metadata": {
        "id": "yoMMb14QYsRm"
      },
      "execution_count": 193,
      "outputs": []
    },
    {
      "cell_type": "code",
      "source": [
        "focus = \"geometric\""
      ],
      "metadata": {
        "id": "nPpvPVexY7Vp"
      },
      "execution_count": 195,
      "outputs": []
    },
    {
      "cell_type": "code",
      "source": [
        "# Execution loop with feedback\n",
        "print(\"\\n=== Starting Simulation ===\")\n",
        "while memoria_procedimental.fire_rules(memoria_declarativa, focus):\n",
        "    print(\"Focus has been processed, clearing focus...\")\n",
        "    focus = None  # Clear focus after one iteration\n",
        "print(\"=== Simulation Complete ===\")"
      ],
      "metadata": {
        "colab": {
          "base_uri": "https://localhost:8080/"
        },
        "id": "ThiJpaY1Ye4F",
        "outputId": "26bd0f3a-3754-415d-927c-5506f74e971a"
      },
      "execution_count": 196,
      "outputs": [
        {
          "output_type": "stream",
          "name": "stdout",
          "text": [
            "\n",
            "=== Starting Simulation ===\n",
            "Procedural Memory: Checking rules for focus 'geometric'\n",
            "Procedural Memory: No rules fired for focus 'geometric'\n",
            "=== Simulation Complete ===\n"
          ]
        }
      ]
    }
  ]
}
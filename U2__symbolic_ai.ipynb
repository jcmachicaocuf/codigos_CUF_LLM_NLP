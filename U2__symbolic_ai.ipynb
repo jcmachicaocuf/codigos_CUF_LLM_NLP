{
  "nbformat": 4,
  "nbformat_minor": 0,
  "metadata": {
    "colab": {
      "provenance": [],
      "include_colab_link": true
    },
    "kernelspec": {
      "name": "python3",
      "display_name": "Python 3"
    },
    "language_info": {
      "name": "python"
    }
  },
  "cells": [
    {
      "cell_type": "markdown",
      "metadata": {
        "id": "view-in-github",
        "colab_type": "text"
      },
      "source": [
        "<a href=\"https://colab.research.google.com/github/jcmachicaocuf/codigos_CUF_LLM_NLP/blob/main/U2__symbolic_ai.ipynb\" target=\"_parent\"><img src=\"https://colab.research.google.com/assets/colab-badge.svg\" alt=\"Open In Colab\"/></a>"
      ]
    },
    {
      "cell_type": "code",
      "source": [
        "class KnowledgeBase:\n",
        "    def __init__(self):\n",
        "        self.facts = set()\n",
        "        self.rules = []\n",
        "\n",
        "    def add_fact(self, fact):\n",
        "        self.facts.add(fact)\n",
        "\n",
        "    def add_rule(self, conditions, conclusion):\n",
        "        self.rules.append((set(conditions), conclusion))\n",
        "\n",
        "    def infer(self):\n",
        "        new_facts = True\n",
        "        while new_facts:\n",
        "            new_facts = False\n",
        "            for conditions, conclusion in self.rules:\n",
        "                if conditions.issubset(self.facts) and conclusion not in self.facts:\n",
        "                    self.facts.add(conclusion)\n",
        "                    new_facts = True\n",
        "                    print(f\"Inferido: {conclusion} basado en {conditions}\")"
      ],
      "metadata": {
        "id": "fcqvI535IHnr"
      },
      "execution_count": null,
      "outputs": []
    },
    {
      "cell_type": "code",
      "source": [
        "class SymbolicAgent:\n",
        "    def __init__(self):\n",
        "        self.kb = KnowledgeBase()\n",
        "\n",
        "    def add_domain_knowledge(self):\n",
        "        # Ejemplo de reglas para un dominio médico simple\n",
        "        self.kb.add_rule(\n",
        "            ['tiene_fiebre', 'tiene_tos'],\n",
        "            'posible_gripe'\n",
        "        )\n",
        "        self.kb.add_rule(\n",
        "            ['posible_gripe', 'tiene_dolor_muscular'],\n",
        "            'probable_gripe'\n",
        "        )\n",
        "        self.kb.add_rule(\n",
        "            ['probable_gripe', 'tiene_fatiga'],\n",
        "            'gripe_confirmada'\n",
        "        )\n",
        "\n",
        "    def observe(self, observation):\n",
        "        self.kb.add_fact(observation)\n",
        "        print(f\"Observado: {observation}\")\n",
        "\n",
        "    def think(self):\n",
        "        self.kb.infer()\n",
        "\n",
        "    def get_diagnosis(self):\n",
        "        diagnoses = [fact for fact in self.kb.facts\n",
        "                    if 'gripe' in fact]\n",
        "        return diagnoses"
      ],
      "metadata": {
        "id": "6Be5hE-9IK3e"
      },
      "execution_count": null,
      "outputs": []
    },
    {
      "cell_type": "code",
      "execution_count": null,
      "metadata": {
        "colab": {
          "base_uri": "https://localhost:8080/"
        },
        "id": "maPSzV2RH-Oj",
        "outputId": "8100c51b-ca0a-4d32-8263-cae1f450f150"
      },
      "outputs": [
        {
          "output_type": "stream",
          "name": "stdout",
          "text": [
            "Observado: tiene_fiebre\n",
            "Observado: tiene_tos\n",
            "Inferido: posible_gripe basado en {'tiene_fiebre', 'tiene_tos'}\n",
            "Observado: tiene_dolor_muscular\n",
            "Inferido: probable_gripe basado en {'tiene_dolor_muscular', 'posible_gripe'}\n",
            "Observado: tiene_fatiga\n",
            "Inferido: gripe_confirmada basado en {'tiene_fatiga', 'probable_gripe'}\n",
            "\n",
            "Diagnóstico final: ['probable_gripe', 'gripe_confirmada', 'posible_gripe']\n"
          ]
        }
      ],
      "source": [
        "# Crear agente\n",
        "agent = SymbolicAgent()\n",
        "agent.add_domain_knowledge()\n",
        "\n",
        "# Simular observaciones\n",
        "observations = [\n",
        "    'tiene_fiebre',\n",
        "    'tiene_tos',\n",
        "    'tiene_dolor_muscular',\n",
        "    'tiene_fatiga'\n",
        "]\n",
        "\n",
        "# Procesar observaciones\n",
        "for obs in observations:\n",
        "    agent.observe(obs)\n",
        "    agent.think()\n",
        "\n",
        "# Obtener diagnóstico\n",
        "diagnosis = agent.get_diagnosis()\n",
        "print(\"\\nDiagnóstico final:\", diagnosis)"
      ]
    }
  ]
}